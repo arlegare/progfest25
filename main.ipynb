{
 "cells": [
  {
   "cell_type": "markdown",
   "id": "9460895a-c653-4e7b-a3bf-3438c67c15b7",
   "metadata": {},
   "source": [
    "# Simulation numérique – ProgFest 2025\n",
    "---\n",
    "Par Arthur Légaré, le 5 mars 2025.\n",
    "\n",
    "*Le masculin est utilisé pour alléger le texte.*"
   ]
  },
  {
   "cell_type": "markdown",
   "id": "038c513a-2715-4b12-ae83-67ad1ba883cc",
   "metadata": {},
   "source": [
    "# Pourquoi simuler en physique?\n",
    "---\n",
    "\n",
    "Curieux de nature, le physicien est porté à expérimenter avec toutes sortes de cossins à sa disposition. Toutefois, avec la maîtrise du langage mathématique, sa curiosité vient généralement à bout des expériences immédiatement accessibles : il devient donc urgent d'agrandir le carré de sable!\n",
    "\n",
    "Venons-y : la physique comporte son lot de phénomènes qui sont décrits par des équations complexes, souvent difficiles, voire impossibles, à résoudre analytiquement. C'est là que la simulation numérique entre en jeu, notamment pour :\n",
    "1) explorer des systèmes trop complexes pour admettre une solution exacte;\n",
    "2) visualiser des dynamiques évolutives et leurs comportements émergents;\n",
    "3) tester des hypothèses et comparer avec des résultats expérimentaux.\n",
    "\n",
    "Certains puristes pourraient y voir là les contours d'une sacrification de la physmath sur l'autel de la *force brute*. Mais attention : l'usage des simulations ne relègue pas aux oubliettes la physmath. Au contraire, nous verrons plutôt que cette dernière demeure l'outil privilégié pour affuter notre intuition, guidant ainsi nos explorations numériques et facilitant l'interprétation des résultats.\n"
   ]
  },
  {
   "cell_type": "markdown",
   "id": "25b55d10-cdf7-4268-96bf-2f5f0c6e36fb",
   "metadata": {},
   "source": [
    "# 1. Plan de match\n",
    "---\n",
    "\n",
    "Nous verrons trois exemples de simulations numériques sur des sujets des plus variés. Au terme de cet atelier, vous devriez voir qu'une même recette peut être suivie (voir annexe Z).\n",
    "\n",
    "**a) Dynamique écologique** – Modélisation de la coopération entre espèces et ses effets sur le taux de survie.\n",
    "\n",
    "**b) Échanges thermiques dans un bâtiment** – Comparaison entre différentes stratégies de chauffage.\n",
    "\n",
    "**c) Modèle d’activité neuronale** – Quantification de la ressemblance avec la structure biologique observée.\n"
   ]
  },
  {
   "cell_type": "markdown",
   "id": "e22cb7e5-89d8-4a04-96a9-ae50a5480959",
   "metadata": {},
   "source": [
    "# 2. Comment utiliser ce notebook\n",
    "---\n",
    "* Chaque simulation sera introduite par une brève présentation du problème et des équations associées.\n",
    "\n",
    "* Le code principal est externalisé dans des fichiers Python (.py), améliorant la modularité du code. Ceci facilite ainsi l'exploration approfondie et l'implémentation de nouvelles simulations!"
   ]
  },
  {
   "cell_type": "markdown",
   "id": "0d46d811",
   "metadata": {},
   "source": [
    "# 3. Exemples de simulations\n",
    "---"
   ]
  },
  {
   "cell_type": "code",
   "execution_count": 23,
   "id": "ab93775d-596b-438f-98df-d5c4f66bc2e3",
   "metadata": {},
   "outputs": [],
   "source": [
    "# Importons quelques librairies utiles.\n",
    "import numpy as np\n",
    "import matplotlib.pyplot as plt\n",
    "import math\n",
    "import numpy as np\n",
    "import copy\n",
    "import collections\n",
    "from tqdm import tqdm\n",
    "import matplotlib.pyplot as plt\n",
    "import inc.functions as fc\n",
    "import os\n",
    "import time\n",
    "import scipy as sp\n",
    "import random\n",
    "\n",
    "plt.rcParams['image.cmap'] = 'gray'\n",
    "plt.rcParams['font.size'] = 16"
   ]
  },
  {
   "cell_type": "markdown",
   "id": "754f8ee1-4b71-41f6-858d-1e1ea5dbeb5f",
   "metadata": {},
   "source": [
    "## 3.1 Simulation écologique : Pourquoi l'altruisme survit-il dans la nature?\n",
    "---\n",
    "\n",
    "Au premier abord, l'évolution semble favoriser les individus maximisant la survie de leur descendance ainsi que d'eux-mêmes. Comment se fait-il alors qu'on puisse observer très fréquemment des comportements altruistes dans la nature? \n",
    "\n",
    "La théorie de l'évolution semble donc poser un paradoxe : si la sélection naturelle élimine les moins performants, comment émergent des stratégies de partage de ressources entre des individus, en particulier si cela va au détriment de leur propre survie?\n",
    "\n",
    "Cette simulation propose d'explorer cette question en modélisant un écosystème où différentes stratégies de survie coexistent et interagissent. En effet, la nature peut être vue comme un vaste jeu stratégique entre une multitude d'espèces interagissant entre elles soit par entraide, par compétition ou même par trahison!\n",
    "\n",
    "<img src=\"inc/simul_chaos_lapino.png\" width=500 height=400 />\n",
    "\n",
    "Chaque individu adopte une stratégie de survie (ou comportement) face aux autres et tous les indidivus présentant une même telle stratégie sont vus comme appartanent à une même espèce. Voici trois espèces que nous tenterons de simuler :\n",
    "* **Tit-for-tat (TFT) :** Coopère au premier échange, puis imite le comportement de son interlocuteur.\n",
    "* **PushOver (PO) :** Coopère toujours, même lorsqu'il est exploité.\n",
    "* **Judas (JD) :** Trahit systématiquement, profitant des autres sans jamais coopérer.\n",
    "\n",
    "Les individus doivent se nourrir pour survivre, mais la nourriture est limitée. Certains chercheront à la partager, d’autres à jouer les fiers-à-bras et la monopoliser. Dans ce contexte, **quels comportements seront avantagés? La coopération peut-elle émerger malgré la présence de tricheurs?**\n",
    "\n",
    "En observant l’évolution des populations dans le temps, nous verrons si la nature sélectionne réellement les plus égoïstes… ou si, au contraire, l’entraide peut s’avérer être une stratégie gagnante. "
   ]
  },
  {
   "cell_type": "code",
   "execution_count": null,
   "id": "c03e0440",
   "metadata": {},
   "outputs": [],
   "source": [
    "from simul_ecologie import *\n",
    "\n",
    "%run simul_ecologie.py"
   ]
  },
  {
   "cell_type": "code",
   "execution_count": null,
   "id": "d9e410a7",
   "metadata": {},
   "outputs": [],
   "source": [
    "### INITIALISATION DE LA BOUFFE ###\n",
    "food_group = [Food(canvas_width, canvas_height) for _ in range(initial_number_of_food)]\n",
    "\n",
    "#Visualisation de la distribution initiale de la nourriture dans l'environnement\n",
    "fig, ax = plt.subplots()\n",
    "for food_element in food_group:\n",
    "    ax.scatter(food_element.position[0], food_element.position[1])\n",
    "ax.set_xlim(0, canvas_width)\n",
    "ax.set_ylim(0, canvas_height)\n",
    "plt.title(\"Distribution initiale de la nourriture\")\n",
    "plt.show()"
   ]
  },
  {
   "cell_type": "code",
   "execution_count": null,
   "id": "badf2c96",
   "metadata": {},
   "outputs": [],
   "source": [
    "### INITIALISATION DES ANIMAUX (UN GROUPE PAR ESPÈCE) ###\n",
    "group_TFT = [TFT() for i in range(initial_TFT_population)]  # = [TFT() for i in range(initial_number_of_animals//2)\n",
    "group_PushOver = [PushOver() for i in range(initial_PO_population)]\n",
    "group_Judas =  [Judas() for i in range(initial_JD_population)]\n",
    "group_Random =  [Confused() for i in range(initial_RD_population)]\n",
    "group_TFTT =  [TitforTwoTats() for i in range(initial_TFTT_population)]\n",
    "group_all_unshuffled = group_TFT + group_PushOver + group_Judas + group_Random + group_TFTT\n",
    "group_all = random.sample(group_all_unshuffled, len(group_all_unshuffled))# concaténation des deux espèces en une population initiale\n",
    "\n",
    "all_animals_quadrated = create_quadrated_group(group_all)\n",
    "\n",
    "nourriture_quadrated = create_quadrated_group(food_group)\n",
    "\n",
    "#Boucle principale du simulateur\n",
    "toda_population = []  # suivi en temps réel du nombre d'animaux dans la simulation\n",
    "TFT_population = []\n",
    "TFTT_population = []\n",
    "PO_population = []\n",
    "JD_population = []\n",
    "RD_population = []\n",
    "food_amount = []\n",
    "naissances = []\n",
    "info_animaux = []\n",
    "timing = []\n",
    "pos_x = []\n",
    "pos_y = []\n",
    "for i in tqdm(range(sim_duration)):\n",
    "    if initial_PO_population != 0:\n",
    "        pos_x.append(group_PushOver[0].position[0]) # le premier PO, on enregistre ses déplacements\n",
    "        pos_y.append(group_PushOver[0].position[1])\n",
    "    elif initial_TFT_population != 0:\n",
    "        pos_x.append(group_TFT[0].position[0]) # le premier PO, on enregistre ses déplacements\n",
    "        pos_y.append(group_TFT[0].position[1])\n",
    "\n",
    "    TFT_cnt = 0\n",
    "    TFTT_cnt = 0\n",
    "    PO_cnt = 0\n",
    "    JD_cnt = 0\n",
    "    RD_cnt = 0\n",
    "    \n",
    "    for quadrant in all_animals_quadrated:\n",
    "        for animal in quadrant:\n",
    "            if animal.species == \"TFT\":\n",
    "                TFT_cnt += 1\n",
    "            if animal.species == \"TFTT\":\n",
    "                TFTT_cnt += 1\n",
    "            if animal.species == \"PO\":\n",
    "                PO_cnt += 1\n",
    "            if animal.species == \"JD\":\n",
    "                JD_cnt += 1\n",
    "            if animal.species == \"RD\":\n",
    "                RD_cnt += 1\n",
    "\n",
    "    TFT_population.append(TFT_cnt)\n",
    "    TFTT_population.append(TFTT_cnt)\n",
    "    PO_population.append(PO_cnt)\n",
    "    JD_population.append(JD_cnt)\n",
    "    RD_population.append(RD_cnt)\n",
    "    toda_population.append(TFT_cnt + PO_cnt + JD_cnt + RD_cnt + TFTT_cnt)  # Suivi démographique de la population totale\n",
    "\n",
    "    naissances_par_h = update_group(all_animals_quadrated, nourriture_quadrated, i, info_animaux)  # Actualisation des animaux et de la bouffe présente\n",
    "    #timing.append(temps)\n",
    "    food = sum([len(quad) for quad in nourriture_quadrated])\n",
    "    food_amount.append(food)\n",
    "    if i % period_food_spawn == 0 and sum([len(quad) for quad in nourriture_quadrated]) < max_amount_of_food:\n",
    "        new_food = [Food(canvas_width, canvas_height) for _ in\n",
    "                    range(new_food_per_spawn)]  # Apparition spontanée de bouffe\n",
    "        add_elements_to_quadrated_group(nourriture_quadrated, new_food)  # Ajout sur l'échiquier\n",
    "\n"
   ]
  },
  {
   "cell_type": "markdown",
   "id": "51756fb0",
   "metadata": {},
   "source": [
    "<img src=\"inc/simul_chaos_carte.png\" width=500 height=500 />"
   ]
  },
  {
   "cell_type": "markdown",
   "id": "8d1ef78c-ac9c-4dc7-bf28-56c9ab205e64",
   "metadata": {},
   "source": [
    "### Deux espèces en présence :\n",
    "TFT et rapace. en proportions différentes. \n",
    "\n",
    "#### Application de l'inégalité de Nash.\n",
    "(Notions d'écologie et de théorie du jeu)\n",
    "\n",
    "### Version simplifiée\n",
    "d'un cas particulier dans le simulateur mis sur pied en Dynamique non linéaire et chaos (présenté au sympsium 2024). \n",
    "\n",
    "### Conclusions : \n",
    "qu'est-ce qui supporte l'émergence de comportements altruistes dans la nature. \n",
    "\n",
    "### Pour pousser plus loin\n",
    "\n",
    "lectures : le gène égoïste, vidéo de Veritasium, article d'Axelrod. Projet de Chaos."
   ]
  },
  {
   "cell_type": "markdown",
   "id": "6537ccf3-2a09-4ac6-8aad-d69e94e7c467",
   "metadata": {},
   "source": [
    "---\n",
    "## 3.2 Échanges thermiques dans un bâtiment"
   ]
  },
  {
   "cell_type": "markdown",
   "id": "6415d5b5-22f7-43f0-94f2-3e96fb93c416",
   "metadata": {},
   "source": [
    "### Problématique : mon coloc a l'habitude de descendre son chauffage au minimum et de fermer sa porte à son départ. Place au débat!\n",
    "Quel est le scénario de chauffage est le **moins énergivore** : une désactivation du radiateur pour la journée ou une légère diminution de la température cible? "
   ]
  },
  {
   "cell_type": "markdown",
   "id": "42c7bf8b",
   "metadata": {},
   "source": [
    "### Hypothèses\n",
    "1) **Loi de Fourier** pour la conduction de chaleur,\n",
    "$\n",
    "\\frac{\\text{d}U(t)}{\\text{d}t} = \\frac{\\kappa A}{d}\\Delta T,\n",
    "$\n",
    " est le mode dominant de transfert thermique.\n",
    "\n",
    "2) **Gaz parfait** : l'énergie interne,\n",
    "$\n",
    "\\text{d}U = nC_v \\text{d}T,\n",
    "$\n",
    "ne dépend que de la température de l'air.\n",
    "\n",
    "3) **Temps de relaxation** thermique : le temps que prend une pièce pour uniformiser sa température est négligeable comparativement au temps caractéristique des transferts thermiques entre pièces, si bien que\n",
    "$\n",
    "\\tau_{\\mathrm{relax}} \\ll \\tau_{\\mathrm{transfert}},\n",
    "$\n",
    "ce qui permet de désigner la température d'une pièce $i$ simplement par $T_i(t)$.\n",
    "\n",
    "4) On considère qu'aucun échange d'air n'a lieu entre les pièces et que la quantité initiale est donc confinée à chaque pièce.\n",
    "\n"
   ]
  },
  {
   "cell_type": "markdown",
   "id": "aca622c2",
   "metadata": {},
   "source": [
    "### Mathématisation du problème (voir annexe B pour détails)\n",
    "\n",
    "\n",
    "\n",
    "**Sous forme scalaire :**\n",
    "$$\n",
    "\\underbrace{C_i \\frac{\\text{d}T_i(t)}{\\text{d}t}}_{\\text{Inertie thermique}} = \\underbrace{P_i(t)}_{\\text{Chauffage}} - \\underbrace{\\sum_{j=i}^{N}K_{ij}T_j(t)}_{\\text{Échanges thermiques par conduction entre les pièces}}  + \\underbrace{\\sum_{j=1}^{N}K_{\\mathrm{ext},ij}(T_{\\mathrm{ext}}-T_j(t))}_{\\text{Chauffage du \"deillors\"}}\n",
    "$$\n",
    "**Sous forme matricielle :**\n",
    "$$\n",
    "C\\frac{\\text{d}\\mathbf{T}(t)}{\\text{d}t} = \\mathbf{P}(t) - K\\mathbf{T}(t) + K_{\\mathrm{ext}}\\left(T_{\\mathrm{ext}} - \\mathbf{T}(t)\\right)\n",
    "$$\n",
    "\n"
   ]
  },
  {
   "cell_type": "code",
   "execution_count": 19,
   "id": "34a7f6a1",
   "metadata": {},
   "outputs": [],
   "source": [
    "from simul_chauffage import *\n",
    "\n",
    "%run simul_chauffage.py"
   ]
  },
  {
   "cell_type": "code",
   "execution_count": 20,
   "id": "cbec9040",
   "metadata": {},
   "outputs": [
    {
     "data": {
      "image/png": "[encoded data removed]",
      "text/plain": [
       "<Figure size 640x480 with 1 Axes>"
      ]
     },
     "metadata": {},
     "output_type": "display_data"
    }
   ],
   "source": [
    "\n",
    "# Définir les paramètres\n",
    "n_rooms = 3  # Nombre de pièces\n",
    "C = np.diag([1.0, 1.0, 1.0])  # Matrice de capacités thermiques (valeurs d'exemple)\n",
    "K = np.array([[2.0, -1.0, -1.0], [-1.0, 2.0, -1.0], [-1.0, -1.0, 2.0]])  # Matrice de conductance thermique (valeurs d'exemple)\n",
    "K_ext = np.diag([0.5, 0.5, 0.5])  # Matrice de conductance thermique externe (valeurs d'exemple)\n",
    "\n",
    "# Définir la fonction de température extérieure (exemple : température extérieure constante)\n",
    "def T_ext_func(t):\n",
    "    return np.array([10.0, 10.0, 10.0])\n",
    "\n",
    "# Définir la fonction de puissance de chauffage (exemple : contrôle proportionnel)\n",
    "def P_func(t, T):\n",
    "    T_desired = np.array([20.0, 20.0, 20.0])\n",
    "    K_p = 10.0\n",
    "    return K_p * (T_desired - T)\n",
    "\n",
    "# Vecteur de température initiale (valeurs d'exemple)\n",
    "T0 = np.array([15.0, 15.0, 15.0])\n",
    "\n",
    "# Vecteur de temps (valeurs d'exemple)\n",
    "t = np.linspace(0, 10, 100)\n",
    "\n",
    "# Simuler le modèle\n",
    "T = simulate_thermal_model(C, K, K_ext, T_ext_func, P_func, T0, t)\n",
    "\n",
    "# Afficher les résultats\n",
    "plt.plot(t, T)\n",
    "plt.xlabel(\"Temps [s]\")\n",
    "plt.ylabel(r\"Température [$^{\\circ}$C]\")\n",
    "plt.legend([\"Pièce 1\", \"Pièce 2\", \"Pièce 3\"])\n",
    "plt.title('Simulation des transferts thermiques')\n",
    "plt.show()\n"
   ]
  },
  {
   "cell_type": "markdown",
   "id": "ef9e3b32",
   "metadata": {},
   "source": [
    " # Extraire les séries temporelles de puissance pour obtenir ce réchauffement!\n",
    " # Intégrer les puissances des radiateurs\n",
    " # Comparer les énergie de chauffage pour les différents scénarios."
   ]
  },
  {
   "cell_type": "markdown",
   "id": "be7ce591-d04a-4fb1-a793-b7ffef7af018",
   "metadata": {},
   "source": [
    "---\n",
    "## c) Modèle d'Ising en 2D"
   ]
  },
  {
   "cell_type": "markdown",
   "id": "a87789e9-c12f-47b0-9d45-b8830b4fc117",
   "metadata": {},
   "source": [
    "### Phénoménologie selon la température.\n",
    "\n",
    "### Visualisation\n",
    "des patrons au seuil critique de changement de phase\n",
    "\n",
    "### Modèle simplifié pour approcher le ferromagnétisme\n",
    "\n",
    "### Finale :\n",
    "qu'arrive-t-il si on introduit un champ magnétique. Réponse : revenez me voir dans quelques moi, je vais étudier le sujet de manière plus exhaustive."
   ]
  },
  {
   "cell_type": "markdown",
   "id": "6643833b-1bd4-4177-9ff1-91f231e7b85b",
   "metadata": {},
   "source": [
    "# 4. Conclusion : Et si les simulations apprenaient d'elles-mêmes ?\n",
    "\n",
    "Nous avons illustré au moyen de trois exemples en quoi les simulations numériques permettent de modéliser des systèmes complexes en physique. Mais que se passerait-il si, au lieu de coder explicitement chaque interaction, on laissait un modèle apprendre ces dynamiques?\n",
    "\n",
    "C’est là qu’interviennent les réseaux neuronaux entraînés sur des modèles physiques. Plutôt que d’évaluer chaque équation pas à pas, on entraîne un réseau sur des données simulées. Une fois entraîné, le réseau tente de prédire l’évolution du système bien plus rapidement qu’une intégration numérique classique. \n",
    "\n",
    "En théorie, cette méthode est loin d'être farfelue, puisqu'on sait depuis 1989 [1] qu'un réseau neuronal peut agir à titre d'« approximateur universel » de toutes fonctions continues! Il est donc logique d'essayer de capturer la dynamique d'un système de cette manière.\n",
    "\n",
    "Cette approche commence déjà à être utilisée pour accélérer les simulations en mécanique des fluides, en physique des matériaux, et même en cosmologie! <span style=\"color:red\">sources</span>.\n",
    "\n",
    "\n",
    "**Les PINNs : le bac à sable du futur**\n",
    "\n",
    "Les simulations basées sur les équations (comme celles du présent atelier) sont complémentaires à celles basées sur l’apprentissage machine. En combinant la rigueur des modèles physiques avec la puissance des réseaux neuronaux, on ouvre la voie à des simulations \n",
    "1) plus rapides,\n",
    "2) moins énergivores,\n",
    "3) détenant la capacité de généraliser sur de nouveaux cas.\n",
    "   \n",
    "On parle alors de « réseaux de neurones informés par la physique », ou PINNs (*Physics-informed neural networks*) en anglais. <span style=\"color:red\">sources</span>"
   ]
  },
  {
   "cell_type": "markdown",
   "id": "14f900ef-bfd2-41e0-9eea-e04c4e103804",
   "metadata": {},
   "source": [
    "# 5. Références\n",
    "[1] G. Cybenko, “Approximation by superpositions of a sigmoidal function,” Math. Control Signal Systems, vol. 2, no. 4, pp. 303–314, Dec. 1989, doi: 10.1007/BF02551274.\n",
    "\n",
    "[2] “Loi de refroidissement de Newton,” Wikipédia. Jul. 29, 2023. Accessed: Mar. 02, 2025. [Online]. Available: https://fr.wikipedia.org/w/index.php?title=Loi_de_refroidissement_de_Newton&oldid=206457504\n",
    "\n",
    "[3] “Matrice laplacienne,” Wikipédia. Sep. 15, 2024. Accessed: Mar. 02, 2025. [Online]. Available: https://fr.wikipedia.org/w/index.php?title=Matrice_laplacienne&oldid=218663112\n",
    "\n",
    "[4] E. W. Weisstein, “Positive Definite Matrix.” Accessed: Mar. 02, 2025. [Online]. Available: https://mathworld.wolfram.com/PositiveDefiniteMatrix.html\n",
    "\n",
    "[5] “Thermal conduction,” Wikipedia. Feb. 25, 2025. Accessed: Mar. 02, 2025. [Online]. Available: https://en.wikipedia.org/w/index.php?title=Thermal_conduction&oldid=1277574658\n",
    "\n",
    "[6] I. Newton, “VII. Scala graduum caloris,” in Philosophical Transactions of the Royal Society of London, vol. 22, The Royal Society, 1701, pp. 824–829. doi: 10.1098/rstl.1700.0082.\n",
    "\n",
    "\n"
   ]
  },
  {
   "cell_type": "markdown",
   "id": "14a90892-3e0f-450d-b5a7-a54d92c6351f",
   "metadata": {},
   "source": [
    "# ANNEXES\n",
    "## Annexe A"
   ]
  },
  {
   "cell_type": "markdown",
   "id": "2f02110d",
   "metadata": {},
   "source": [
    "## Annexe B\n",
    "\n",
    "### Modélisation des transferts thermiques par conduction dans un bâtiment\n",
    "\n",
    "En combinant la loi de Fourier pour la conduction thermique et l'expression de variation d'énergie interne d'un gaz parfait pour un écoulement de temps $\\text{d}t$, nous obtenons\n",
    "$$\n",
    "nC_v \\text{d}T(t) = \\frac{\\kappa A}{d}\\Delta T(t) \\text{d}t \\Longleftrightarrow nC_v \\frac{\\text{d}T(t)}{\\text{d}t} = \\frac{\\kappa A}{d}\\Delta T(t).\n",
    "$$\n",
    "Le taux de variation de température d'une pièce $i$ causé par le transfert thermique avec la pièce $j$ est proportionnel à la différence $\\Delta T_{ij}(t) = -(T_i(t)-T_j(t))$, si bien que\n",
    "$$\n",
    "n_iC_v \\frac{\\text{d}T_i(t)}{\\text{d}t} = -\\underbrace{\\frac{\\kappa_{ij} A_{ij}}{d_{ij}}}_{\\equiv l_{ij}}\\Big(T_i(t) - T_j(t)\\Big) = -l_{ij}\\Big(T_i(t)-T_j(t)\\Big).\n",
    "$$\n",
    "À ce stade, il est intéressant de remarque que cette relation est équivalente à la loi de refroidissement des corps, initialement formulée par Newton en 1701 [6].\n",
    "\n",
    "Toutefois, nous souhaitons réexprimer cette équation au moyen d'une matrice de couplage globale qui encapsule tous les transferts thermiques par conduction, nous permettant ainsi d'éviter d'avoir recours à une différence de températures. On introduit donc la **matrice de conductivité thermique** $K$, construite comme suit :\n",
    "$$\n",
    "K_{ij} = \\begin{cases} \\sum_{j=1}^N l_{ij}(1-\\delta_{ij}) \\hspace{24pt} \\text{si }i = j \\; : \\; \\text{Transfert thermique vers les autres pièces.}\\\\ -l_{ij} \\hspace{77pt} \\text{si }i \\neq j \\; : \\; \\text{Loi de Fourier entre pièces }i\\text{ et }j.\\end{cases}\n",
    "$$\n",
    "Fait intéressant : la matrice de conductivité thermique $K$ correspond à une matrice de Laplace, qui est définie positive (c'est-à-dire ne possèdant que des valeurs propres positives). Ceci nous indique donc que sans l'intervention de radiateurs, les températures des pièces sont vouées à se stabiliser de manière monotone vers des valeurs d'équilibre thermique. Maintenant que nous avons posé la base des échanges thermiques, nous pouvons introduires les deux autres composantes-clés au modèle : la puissance de chauffage des radiateurs $\\mathbf{P}(t)$ pour les $N$ pièces ainsi que le transfert thermique avec l'extérieur, de température $T_{\\mathrm{ext}}$, qui peut être vu comme le \"chauffage du deillors\" en bon français."
   ]
  },
  {
   "cell_type": "markdown",
   "id": "f076528a",
   "metadata": {},
   "source": [
    "# ANNEXE Z\n",
    "\n",
    "### Recette : Comment réussir (ou pas) une simulation numérique\n",
    "\n",
    "1. **Trouver un problème :** arroser les fleurs du tapis de la curiosité intellectuelle.\n",
    "2. **Mathématiser le problème :** *soit un boeuf sphérique précédé d'une charrue...*\n",
    "3. **Choisir des paramètres :** [*Itération 1*] partons à la cueillette de cerises, sans vergogne.\n",
    "4. **Écrire une belle architecture** de code (digne du brutalisme, avec juste ce qu'il faut de chaos).\n",
    "5. **Coder**, c’est-à-dire s'adonner à la chasse aux bugs en écoutant du [Georges Brassens](https://www.youtube.com/watch?v=oOPBnbNxLDM).\n",
    "6. **Visualiser les résultats** (et ajuster les couleurs pour que ça ait l’air crédible).\n"
   ]
  }
 ],
 "metadata": {
  "kernelspec": {
   "display_name": "hydro",
   "language": "python",
   "name": "python3"
  },
  "language_info": {
   "codemirror_mode": {
    "name": "ipython",
    "version": 3
   },
   "file_extension": ".py",
   "mimetype": "text/x-python",
   "name": "python",
   "nbconvert_exporter": "python",
   "pygments_lexer": "ipython3",
   "version": "3.8.17"
  }
 },
 "nbformat": 4,
 "nbformat_minor": 5
}
