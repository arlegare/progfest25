{
 "cells": [
  {
   "cell_type": "markdown",
   "id": "9460895a-c653-4e7b-a3bf-3438c67c15b7",
   "metadata": {},
   "source": [
    "# Simulation numérique – ProgFest 2025\n",
    "---\n",
    "Par Arthur Légaré, le 5 mars 2025.\n",
    "\n",
    "*Le masculin est utilisé pour alléger le texte.*"
   ]
  },
  {
   "cell_type": "markdown",
   "id": "038c513a-2715-4b12-ae83-67ad1ba883cc",
   "metadata": {},
   "source": [
    "# Pourquoi simuler en physique?\n",
    "---\n",
    "\n",
    "**Le carré de sable est à l'enfant ce que la simulation est au physicien.**\n",
    "\n",
    "Curieux de nature, le physicien est porté à expérimenter avec toutes sortes de cossins à sa disposition. Toutefois, avec la maîtrise du langage mathématique, sa curiosité vient généralement à bout des expériences immédiatement accessibles : il devient donc urgent d'agrandir le carré de sable!\n",
    "\n",
    "Venons-y : la physique comporte son lot de phénomènes qui sont décrits par des équations complexes, souvent difficiles, voire impossibles, à résoudre analytiquement. C'est là que la simulation numérique entre en jeu, notamment pour :\n",
    "1) explorer des systèmes trop complexes pour admettre une solution exacte;\n",
    "2) visualiser des dynamiques évolutives et leurs comportements émergents;\n",
    "3) tester des hypothèses et comparer avec des résultats expérimentaux.\n",
    "\n",
    "Certains puristes pourraient y voir là les contours d'une sacrification de la physmath sur l'autel de la *force brute*. Mais attention : l'usage des simulations ne relègue pas aux oubliettes la physmath. Au contraire, nous verrons plutôt que cette dernière demeure l'outil privilégié pour affuter notre intuition, guidant ainsi nos explorations numériques et facilitant l'interprétation des résultats.\n"
   ]
  },
  {
   "cell_type": "markdown",
   "id": "25b55d10-cdf7-4268-96bf-2f5f0c6e36fb",
   "metadata": {},
   "source": [
    "# 1. Plan de match\n",
    "---\n",
    "\n",
    "Nous verrons trois exemples de simulations numériques, chacune illustrant un aspect clé de la modélisation en physique.\n",
    "\n",
    "**a) Dynamique écologique** – Modélisation de la coopération entre espèces et ses effets sur taux de survie.\n",
    "\n",
    "**b) Échanges thermiques dans un bâtiment** – Comparaison entre différentes stratégies de chauffage.\n",
    "\n",
    "**c) Modèle d’Ising en 2D** – Étude des transitions de phase dans un système de spins.\n",
    "\n",
    "\n",
    "<span style=\"color:red\">*titres accrocheurs : a) good guys really finish least? b) on chauffe pas le deyors c) vitre funky *</span>."
   ]
  },
  {
   "cell_type": "markdown",
   "id": "e22cb7e5-89d8-4a04-96a9-ae50a5480959",
   "metadata": {},
   "source": [
    "# 2. Comment utiliser ce notebook\n",
    "---\n",
    "* Chaque simulation sera introduite par une brève présentation du problème et des équations associées.\n",
    "\n",
    "* Le code principal est externalisé dans des fichiers Python (.py), améliorant la modularité du code. Ceci permet facilite ainsi l'exploration approfondie après l’atelier et l'implémentation de nouvelles simulations!"
   ]
  },
  {
   "cell_type": "markdown",
   "id": "6a122128-b174-4e84-9cb2-96299b2118d2",
   "metadata": {},
   "source": [
    "# 3. Simulations en rafales\n",
    "---"
   ]
  },
  {
   "cell_type": "code",
   "execution_count": null,
   "id": "ab93775d-596b-438f-98df-d5c4f66bc2e3",
   "metadata": {},
   "outputs": [],
   "source": [
    "# Importons quelques librairies utiles.\n",
    "import numpy as np\n",
    "import matplotlib.pyplot as plt\n",
    "import skimage\n",
    "\n",
    "plt.rcParams['image.cmap'] = 'gray'\n",
    "plt.rcParams['font.size'] = 16"
   ]
  },
  {
   "cell_type": "markdown",
   "id": "754f8ee1-4b71-41f6-858d-1e1ea5dbeb5f",
   "metadata": {},
   "source": [
    "---\n",
    "## a) Coopération entre espèces\n",
    "<img src=\"figures/lapino_chaos.png\" width=800 height=300 />"
   ]
  },
  {
   "cell_type": "markdown",
   "id": "8d1ef78c-ac9c-4dc7-bf28-56c9ab205e64",
   "metadata": {},
   "source": [
    "### Deux espèces en présence :\n",
    "TFT et rapace. en proportions différentes. \n",
    "\n",
    "#### Application de l'inégalité de Nash.\n",
    "(Notions d'écologie et de théorie du jeu)\n",
    "\n",
    "### Version simplifiée\n",
    "d'un cas particulier dans le simulateur mis sur pied en Dynamique non linéaire et chaos (présenté au sympsium 2024). \n",
    "\n",
    "### Conclusions : \n",
    "qu'est-ce qui supporte l'émergence de comportements altruistes dans la nature. \n",
    "\n",
    "### Pour pousser plus loin\n",
    "\n",
    "lectures : le gène égoïste, vidéo de Veritasium, article d'Axelrod. Projet de Chaos."
   ]
  },
  {
   "cell_type": "markdown",
   "id": "6537ccf3-2a09-4ac6-8aad-d69e94e7c467",
   "metadata": {},
   "source": [
    "---\n",
    "## b) Échanges thermiques dans un bâtiment\n",
    "\n",
    "<img src=\"figures/barre.png\" width=650 height=300 />"
   ]
  },
  {
   "cell_type": "markdown",
   "id": "6415d5b5-22f7-43f0-94f2-3e96fb93c416",
   "metadata": {},
   "source": [
    "### Problématique : ma coloque l'an passé avait l'habitude de descendre son chauffage au minimum et de fermer sa porte à son départ. \n",
    "Mais y a-t-il une durée critique à partir de laquelle ça vaut la peine d'effectuer une telle chose? Quand on s'éloigne d'un équilibre, le retour sort du régime de linéarité et engendre possiblement une moins bonne efficacité énergétique. Il faut vérifier cette hypothèse en balayant la durée pour une configuration vraisemblable.\n",
    "\n",
    "Équations de thermodynamique parachutées : vous devez me faire confiance."
   ]
  },
  {
   "cell_type": "markdown",
   "id": "be7ce591-d04a-4fb1-a793-b7ffef7af018",
   "metadata": {},
   "source": [
    "---\n",
    "## c) Modèle d'Ising en 2D"
   ]
  },
  {
   "cell_type": "markdown",
   "id": "a87789e9-c12f-47b0-9d45-b8830b4fc117",
   "metadata": {},
   "source": [
    "### Phénoménologie selon la température.\n",
    "\n",
    "### Visualisation\n",
    "des patrons au seuil critique de changement de phase\n",
    "\n",
    "### Modèle simplifié pour approcher le ferromagnétisme\n",
    "\n",
    "### Finale :\n",
    "qu'arrive-t-il si on introduit un champ magnétique. Réponse : revenez me voir dans quelques moi, je vais étudier le sujet de manière plus exhaustive."
   ]
  },
  {
   "cell_type": "markdown",
   "id": "6643833b-1bd4-4177-9ff1-91f231e7b85b",
   "metadata": {},
   "source": [
    "# 4. Conclusion : Et si les simulations apprenaient d'elles-mêmes ?\n",
    "\n",
    "Nous avons illustré au moyen de trois exemples en quoi les simulations numériques permettent de modéliser des systèmes complexes en physique. Mais que se passerait-il si, au lieu de coder explicitement chaque interaction, on laissait un modèle apprendre ces dynamiques?\n",
    "\n",
    "C’est là qu’interviennent les réseaux neuronaux entraînés sur des modèles physiques. Plutôt que d’évaluer chaque équation pas à pas, on entraîne un réseau sur des données simulées. Une fois entraîné, le réseau tente de prédire l’évolution du système bien plus rapidement qu’une intégration numérique classique. \n",
    "\n",
    "En théorie, cette méthode est loin d'être farfelue, puisqu'on sait depuis 1989 [1] qu'un réseau neuronal peut agir à titre d'« approximateur universel » de toutes fonctions continues! Il est donc logique d'essayer de capturer la dynamique d'un système de cette manière.\n",
    "\n",
    "Cette approche commence déjà à être utilisée pour accélérer les simulations en mécanique des fluides, en physique des matériaux, et même en cosmologie! <span style=\"color:red\">sources</span>.\n",
    "\n",
    "\n",
    "**Les PINNs : le bac à sable du futur**\n",
    "\n",
    "Les simulations basées sur les équations (comme celles du présent atelier) sont complémentaires à celles basées sur l’apprentissage machine. En combinant la rigueur des modèles physiques avec la puissance des réseaux neuronaux, on ouvre la voie à des simulations \n",
    "1) plus rapides,\n",
    "2) moins énergivores,\n",
    "3) détenant la capacité de généraliser sur de nouveaux cas.\n",
    "   \n",
    "On parle alors de « réseaux de neurones informés par la physique », ou PINNs (*Physics-informed neural networks*) en anglais. <span style=\"color:red\">sources</span>"
   ]
  },
  {
   "cell_type": "markdown",
   "id": "14f900ef-bfd2-41e0-9eea-e04c4e103804",
   "metadata": {},
   "source": [
    "# 5. Références\n",
    "[1] G. Cybenko, “Approximation by superpositions of a sigmoidal function,” Math. Control Signal Systems, vol. 2, no. 4, pp. 303–314, Dec. 1989, doi: 10.1007/BF02551274.\n",
    "\n",
    "[2] “Loi de refroidissement de Newton,” Wikipédia. Jul. 29, 2023. Accessed: Mar. 02, 2025. [Online]. Available: https://fr.wikipedia.org/w/index.php?title=Loi_de_refroidissement_de_Newton&oldid=206457504\n",
    "\n",
    "[3] “Matrice laplacienne,” Wikipédia. Sep. 15, 2024. Accessed: Mar. 02, 2025. [Online]. Available: https://fr.wikipedia.org/w/index.php?title=Matrice_laplacienne&oldid=218663112\n",
    "\n",
    "[4] E. W. Weisstein, “Positive Definite Matrix.” Accessed: Mar. 02, 2025. [Online]. Available: https://mathworld.wolfram.com/PositiveDefiniteMatrix.html\n",
    "\n",
    "[5] “Thermal conduction,” Wikipedia. Feb. 25, 2025. Accessed: Mar. 02, 2025. [Online]. Available: https://en.wikipedia.org/w/index.php?title=Thermal_conduction&oldid=1277574658\n",
    "\n",
    "[6] I. Newton, “VII. Scala graduum caloris,” in Philosophical Transactions of the Royal Society of London, vol. 22, The Royal Society, 1701, pp. 824–829. doi: 10.1098/rstl.1700.0082.\n",
    "\n",
    "\n"
   ]
  },
  {
   "cell_type": "markdown",
   "id": "14a90892-3e0f-450d-b5a7-a54d92c6351f",
   "metadata": {},
   "source": [
    "# 6. Bonus \n",
    "\n",
    "## Recette : Comment réussir (ou pas) une simulation numérique\n",
    "\n",
    "1. **Trouver un problème :** arroser les fleurs du tapis de la curiosité intellectuelle.\n",
    "2. **Mathématiser le problème :** *soit un boeuf sphérique précédé d'une charrue...*\n",
    "3. **Choisir des paramètres :** [*Itération 1*] partons à la cueillette de cerises, sans vergogne.\n",
    "4. **Écrire une belle architecture** de code (digne du brutalisme, avec juste ce qu'il faut de chaos).\n",
    "5. **Coder**, c’est-à-dire s'adonner à la chasse aux bugs en écoutant du [Georges Brassens](https://www.youtube.com/watch?v=oOPBnbNxLDM).\n",
    "6. **Visualiser les résultats** (et ajuster les couleurs pour que ça ait l’air crédible).\n"
   ]
  }
 ],
 "metadata": {
  "kernelspec": {
   "display_name": "Python 3 (ipykernel)",
   "language": "python",
   "name": "python3"
  },
  "language_info": {
   "codemirror_mode": {
    "name": "ipython",
    "version": 3
   },
   "file_extension": ".py",
   "mimetype": "text/x-python",
   "name": "python",
   "nbconvert_exporter": "python",
   "pygments_lexer": "ipython3",
   "version": "3.10.12"
  }
 },
 "nbformat": 4,
 "nbformat_minor": 5
}
