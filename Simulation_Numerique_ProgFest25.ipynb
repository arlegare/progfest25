{
 "cells": [
  {
   "cell_type": "markdown",
   "id": "9460895a-c653-4e7b-a3bf-3438c67c15b7",
   "metadata": {},
   "source": [
    "# Simulation numérique – ProgFest 2025\n",
    "---\n",
    "Par Arthur Légaré, le 5 mars 2025.\n",
    "\n",
    "*Le masculin est utilisé pour alléger le texte.*"
   ]
  },
  {
   "cell_type": "markdown",
   "id": "038c513a-2715-4b12-ae83-67ad1ba883cc",
   "metadata": {},
   "source": [
    "# Pourquoi simuler en physique?\n",
    "---\n",
    "\n",
    "Curieux de nature, le physicien est porté à expérimenter avec toutes sortes de cossins à sa disposition. Toutefois, avec la maîtrise du langage mathématique, sa curiosité vient généralement à bout des expériences immédiatement accessibles : il devient donc urgent d'agrandir le carré de sable!\n",
    "\n",
    "Venons-y : la physique comporte son lot de phénomènes qui sont décrits par des équations complexes, souvent difficiles, voire impossibles, à résoudre analytiquement. C'est là que la simulation numérique entre en jeu, notamment pour :\n",
    "1) explorer des systèmes trop complexes pour admettre une solution exacte;\n",
    "2) visualiser des dynamiques évolutives et leurs comportements émergents;\n",
    "3) tester des hypothèses et comparer avec des résultats expérimentaux.\n",
    "\n",
    "Certains puristes pourraient y voir là les contours d'une sacrification de la physmath sur l'autel de la *force brute*. Mais attention : l'usage des simulations ne relègue pas aux oubliettes la physmath. Au contraire, nous verrons plutôt que cette dernière demeure l'outil privilégié pour affuter notre intuition, guidant ainsi nos explorations numériques et facilitant l'interprétation des résultats.\n"
   ]
  },
  {
   "cell_type": "markdown",
   "id": "25b55d10-cdf7-4268-96bf-2f5f0c6e36fb",
   "metadata": {},
   "source": [
    "# 1. Plan de match\n",
    "---\n",
    "\n",
    "Nous verrons deux exemples de simulations numériques portant sur des sujets variés. Au terme de cet atelier, nous devrions être en mesure de mettre sur pied une recette pour simuler avec succès (voir annexe Z).\n",
    "\n",
    "**a) Exercices en rafale** – Passer de l'équation à un modèle simulable.\n",
    "\n",
    "**b) Échanges thermiques dans un bâtiment** – Comparaison entre différentes stratégies de chauffage.\n",
    "\n"
   ]
  },
  {
   "cell_type": "code",
   "execution_count": null,
   "id": "ab93775d-596b-438f-98df-d5c4f66bc2e3",
   "metadata": {},
   "outputs": [],
   "source": [
    "# Importons quelques librairies utiles.\n",
    "import numpy as np\n",
    "import matplotlib.pyplot as plt\n",
    "import numpy as np\n",
    "from tqdm import tqdm\n",
    "import matplotlib.pyplot as plt\n",
    "#import inc.functions as fc\n",
    "import scipy as sp\n",
    "from numba import njit\n",
    "import matplotlib.animation as animation\n",
    "from IPython.display import display, HTML\n",
    "\n",
    "plt.rcParams['image.cmap'] = 'gray'\n",
    "plt.rcParams['font.size'] = 16\n",
    "\n",
    "%matplotlib inline  # Pour éviter que les animations ne s'ouvrent dans une autre fenêtre."
   ]
  },
  {
   "cell_type": "markdown",
   "id": "6560721f",
   "metadata": {},
   "source": [
    "# 2. Exercices\n",
    "---\n",
    "\n",
    "La prochaine section présente deux exercices pour vous permettre de pratiquer le passage de l'équation au code!"
   ]
  },
  {
   "cell_type": "markdown",
   "id": "f5d14a27",
   "metadata": {},
   "source": [
    "## a) Oscillateur harmonique amorti\n",
    "\n",
    "Servi à toutes les sauces – que ce soit en mécaniques classique, lagrangienne et quantique ou encore en physique statistique –, l'oscillateur harmonique est un système dynamique omniprésent en physique. Son équation différentielle, avec un amortissement $b$, devrait vous être des plus familières :\n",
    "$$\n",
    "\\boxed{m\\frac{\\text{d}^2 x(t)}{\\text{d}t^2} + b\\frac{\\text{d}x(t)}{\\text{d}t} + kx(t) = 0},\n",
    "$$\n",
    "où on reconnait $x$ comme une position quelconque, $k$ comme la fréquence propre de l'oscillateur et $b$ comme le coefficient d'amortissement."
   ]
  },
  {
   "cell_type": "markdown",
   "id": "a54a3923",
   "metadata": {},
   "source": [
    "### i) Décidons des paramètres de l'oscillateur harmonique amorti"
   ]
  },
  {
   "cell_type": "code",
   "execution_count": null,
   "id": "0efbe04a",
   "metadata": {},
   "outputs": [],
   "source": [
    "m = 1.0  # Masse\n",
    "k = 1.0  # Constante de raideur du ressort\n",
    "b = 0.1  # Amortissement (mettre 0 pour un ressort idéal)"
   ]
  },
  {
   "cell_type": "markdown",
   "id": "452f7b3c",
   "metadata": {},
   "source": [
    "### ii) Choisissons les conditions initiales du problème"
   ]
  },
  {
   "cell_type": "code",
   "execution_count": null,
   "id": "ab0e8737",
   "metadata": {},
   "outputs": [],
   "source": [
    "# Conditions initiales du problème.\n",
    "x0 = 1.0  # Position initiale\n",
    "v0 = 0.0  # Vitesse initiale"
   ]
  },
  {
   "cell_type": "markdown",
   "id": "099801f6",
   "metadata": {},
   "source": [
    "### iii) Mathématisons le problème\n",
    "\n",
    "a) On commence par obtenir l'expression de l'accélération instantanée, ce qui permettra de mettre à jour la vitesse : $\\Delta v \\approx a \\Delta t$.\n",
    "$$m\\ddot{x}(t) + b\\dot{x}(t) + kx(t) = 0 \\Longleftrightarrow \\ddot{x}(t) = \\frac{1}{m}\\Big (- b\\dot{x}(t) - kx(t) \\Big)$$\n",
    "L'accélération instantanée de cet oscillateur va donc comme : \n",
    "$$\\boxed{a(t) =  -\\frac{1}{m}\\Big (b\\dot{x}(t) + kx(t) \\Big)}.$$\n"
   ]
  },
  {
   "cell_type": "markdown",
   "id": "4657fde5",
   "metadata": {},
   "source": [
    "\n",
    "b) Ensuite, la position pourra être mise à jour successivement par cinématique avec la relation $\\Delta x \\approx v\\Delta t$.\n"
   ]
  },
  {
   "cell_type": "markdown",
   "id": "66ac2ef8",
   "metadata": {},
   "source": [
    "### iv) Passons de l'équation au code\n",
    "\n",
    " Voici l'idée générale, transcrite en pseudo-code, d'une intégration reposant sur la **méthode d'Euler** appliquée à cette dynamique :\n",
    "```\n",
    "FONCTION update_state(x, v, dt, m, k, b)\n",
    "    // Estimation de l'accélération selon l'équation du mouvement.\n",
    "    a ← -(b*v + k*x)/m\n",
    "    \n",
    "    // Mettre à jour la vitesse avec la méthode d'Euler.\n",
    "    v_new ← v + a*dt\n",
    "    \n",
    "    // Mettre à jour la position avec la nouvelle vitesse (par cinématique).\n",
    "    x_new ← x + v_new*dt\n",
    "    \n",
    "    // Retourner la nouvelle position et la nouvelle vitesse.\n",
    "    RETOURNER (x_new, v_new)\n",
    "FIN FONCTION\n",
    "```\n"
   ]
  },
  {
   "cell_type": "code",
   "execution_count": null,
   "id": "aec58637",
   "metadata": {},
   "outputs": [],
   "source": [
    "# Pour commencer, on intègre simplement avec la méthode d'Euler.\n",
    "def integrer_OHA_euler(T, m, k, b, x0, v0):\n",
    "    x_integree = np.zeros(T)\n",
    "    t_integree = np.zeros(T)\n",
    "    v_integree = np.zeros(T)\n",
    "    x = x0\n",
    "    v = v0\n",
    "    temps = 0 # On harcode un temps nul au début.\n",
    "\n",
    "    for t in range(T):\n",
    "        a = (-b*v - k*x) / m  # Accélération instantanée due à la force de rappel et à l'amortissement\n",
    "        v += a * dt  # Nouvelle vitesse\n",
    "        x += v * dt  # Nouvelle position\n",
    "        temps += dt # Incrément temporel\n",
    "        x_integree[t] = x\n",
    "        t_integree[t] = temps\n",
    "        v_integree[t] = v\n",
    "\n",
    "    return t_integree, x_integree, v_integree\n"
   ]
  },
  {
   "cell_type": "markdown",
   "id": "4ee610b5",
   "metadata": {},
   "source": [
    "### v) Intégrons!"
   ]
  },
  {
   "cell_type": "code",
   "execution_count": null,
   "id": "14f79593",
   "metadata": {},
   "outputs": [],
   "source": [
    "# Paramètres d'intégration.\n",
    "dt = 0.05  # Pas de temps\n",
    "T = 400  # Nombre de frames pour l'animation\n",
    "\n",
    "print(f\"Nous allons intégrer sur {np.round(T*dt, 3)} s\")\n",
    "\n",
    "t_solution, x_solution, v_solution = integrer_OHA_euler(T, m, k, b, x0, v0)"
   ]
  },
  {
   "cell_type": "markdown",
   "id": "546d45d1",
   "metadata": {},
   "source": [
    "### vi) Visualisons les résultats\n"
   ]
  },
  {
   "cell_type": "code",
   "execution_count": null,
   "id": "455e081c",
   "metadata": {},
   "outputs": [],
   "source": [
    "_, ax = plt.subplots(1,1, figsize=(10,5))\n",
    "ax.plot(t_solution, x_solution, color=\"darkBlue\", linewidth=2)\n",
    "plt.xlabel(r\"$t$ [s]\")\n",
    "plt.ylabel(r\"$x(t)$ [m]\")\n",
    "ax.spines[['right', 'top']].set_visible(False)\n",
    "plt.show()"
   ]
  },
  {
   "cell_type": "code",
   "execution_count": null,
   "id": "c844693f",
   "metadata": {},
   "outputs": [],
   "source": [
    "_, ax = plt.subplots(1,1, figsize=(10,5))\n",
    "ax.plot(x_solution, v_solution, color=\"darkBlue\", linewidth=2)\n",
    "plt.xlabel(r\"$x(t)$ [m]\")\n",
    "plt.ylabel(r\"$\\dot{x}(t)$ [m/s$^2$]\")\n",
    "ax.spines[['right', 'top']].set_visible(False)\n",
    "plt.show()"
   ]
  },
  {
   "cell_type": "code",
   "execution_count": null,
   "id": "dc88e1fc",
   "metadata": {},
   "outputs": [],
   "source": [
    "fig, ax = plt.subplots(figsize=(10, 5))\n",
    "ax.set_xlim(-x0*1.5, x0*1.5) # Domaine en x visible.\n",
    "ax.set_ylim(-0.2, 0.2) # Domaine en y visible.\n",
    "ax.set_xticks([])\n",
    "ax.set_yticks([])\n",
    "ax.set_title(\"Oscillateur harmonique amorti\")\n",
    "\n",
    "# Ligne représentant le ressort\n",
    "spring, = ax.plot([], [], color=\"black\", linewidth=3)\n",
    "mass, = ax.plot([], [], color=\"darkBlue\", marker=\".\", markersize=100)  # Masse attachée\n",
    "\n",
    "def init():\n",
    "    spring.set_data([], [])\n",
    "    mass.set_data([], [])\n",
    "    return spring, mass\n",
    "\n",
    "def update(frame):\n",
    "    x = x_solution[frame]\n",
    "    spring.set_data(np.linspace(-x0*1.5, x, 10), np.zeros(10))  # Déforme le ressort\n",
    "    mass.set_data([x], [0])  # Déplace la masse\n",
    "    return spring, mass\n",
    "\n",
    "# Affichage de l'animation.\n",
    "ani = animation.FuncAnimation(fig, update, frames=np.arange(0,T,2), init_func=init, interval=50, blit=True)\n",
    "display(HTML(ani.to_jshtml()))"
   ]
  },
  {
   "cell_type": "markdown",
   "id": "995d04fa",
   "metadata": {},
   "source": [
    "## b) Modèle de Kuramoto"
   ]
  },
  {
   "cell_type": "markdown",
   "id": "1b179295",
   "metadata": {},
   "source": [
    "Soit le modèle de Kuramoto, un modèle de $N$ oscillateurs couplés, souvent utilisé pour étudier les phénomènes de synchronisation collective dans des systèmes complexes. Le modèle s'exprime par l'équation différentielle suivante :\n",
    "$$\n",
    "\\boxed{\\dot{\\theta}_k = \\omega_k - \\frac{g}{N} \\sum_{j=1}^N \\sin \\left(\\theta_k - \\theta_j \\right) \\hspace{12pt} \\forall\\hspace{6pt} k\\in\\{1,...,N\\}},\n",
    "$$\n",
    "où :\n",
    "* $g$ est le couplage global du système (on peut même faire appel à une matrice $G=[g_{ij}]$ pour un couplage non uniforme),\n",
    "* $\\omega$ est la fréquence naturelle des oscillateurs, \n",
    "* $\\theta_k$, la phase de l'oscilleur $k$.\n",
    "\n",
    "Le modèle de Kuramoto est particulièrement pertinent pour comprendre les mécanismes de synchronisation dans des systèmes complexes, où une grande d'entités interagissent entre elles et se synchronisent spontanément en dépit de variabilité individuelle, comme c'est observé dans des phénomènes biologiques, sociaux et physiques. [3]."
   ]
  },
  {
   "cell_type": "code",
   "execution_count": null,
   "id": "4e81e83b",
   "metadata": {},
   "outputs": [],
   "source": [
    "\n",
    "# i) Paramètres du modèle.\n",
    "\n",
    "N = 20  # Nombre d'oscillateurs\n",
    "g = 0.5  # Couplage global\n",
    "dt = 0.01  # Pas de temps\n",
    "t_f = 15 # Temps final de simulation\n",
    "\n",
    "# ii) Initialisation des phases (theta) et des fréquences naturelles (omega).\n",
    "\n",
    "theta_0 = np.random.uniform(0, 2*np.pi, N)  # Phases initiales aléatoires.\n",
    "omega = np.random.normal(2, 1, N)  # Fréquences naturelles de moyenne 2 et d'écart-type 1.\n",
    "\n",
    "# iii) et iv) Simulation numérique (intégration avec solve_ivp pour de meilleurs résultats!).\n",
    "\n",
    "t_vec = np.linspace(0, t_f, int(t_f/dt), endpoint=True) # Vecteur des temps auxquels évaluer l'intégrale\n",
    "\n",
    "@njit\n",
    "def kuramoto_deriv(t, theta, g, omega):\n",
    "    N = omega.shape[0]\n",
    "    theta_dot = np.zeros(N)\n",
    "    for k in range(N):\n",
    "        theta_dot_k = omega[k] - g/N * sum([np.sin(theta[k] - theta[j]) for j in range(N)])\n",
    "        theta_dot[k] = theta_dot_k\n",
    "    return theta_dot\n",
    "\n",
    "solution = sp.integrate.solve_ivp(kuramoto_deriv, t_span=(0, t_f), y0=theta_0, args=(g, omega), t_eval=t_vec, rtol=1e-6, method=\"RK45\")\n",
    "\n",
    "theta_solution = solution.y"
   ]
  },
  {
   "cell_type": "code",
   "execution_count": null,
   "id": "59469d9b",
   "metadata": {},
   "outputs": [],
   "source": [
    "\n",
    "# v) Visualisation des résultats (une animation va nous satisfaire pour ce modèle...).\n",
    "\n",
    "import matplotlib as mpl\n",
    "mpl.rcParams['animation.embed_limit'] = 30  # en MB\n",
    "\n",
    "sous_echant_frames_anim = 5 # On retient une frame sur [] pour l'animation.\n",
    "\n",
    "fig, ax = plt.subplots(figsize=(8, 8))\n",
    "ax.set_xlim(-1.2, 1.2)\n",
    "ax.set_ylim(-1.2, 1.2)\n",
    "ax.set_xticks([])\n",
    "ax.set_yticks([])\n",
    "ax.set_title(f\"Modèle de Kuramoto : {N} oscillateurs couplés\")\n",
    "ax.spines[[\"left\", \"right\", \"top\", \"bottom\"]].set_visible(False)\n",
    "\n",
    "circle = plt.Circle((0, 0), 1, color=\"black\", fill=False, linewidth=1.2)  # Cercle de rayon unitaire.\n",
    "ax.add_patch(circle)\n",
    "\n",
    "points, = ax.plot([], [], marker=\".\", linestyle=\"None\", color=\"darkGreen\", markersize=12)  # Points des oscillateurs.\n",
    "com, = ax.plot([], [], marker=\"+\", color=\"red\", markersize=15)  # Point pour le centre de masse.\n",
    "trajectory, = ax.plot([], [], color=\"blue\", linewidth=1)  # Trajectoire du centre de masse.\n",
    "\n",
    "x_com_trace = []\n",
    "y_com_trace = []\n",
    "\n",
    "def init():\n",
    "    points.set_data([], [])\n",
    "    com.set_data([], [])\n",
    "    trajectory.set_data([], [])\n",
    "    return points, com, trajectory\n",
    "\n",
    "def update(frame):\n",
    "    x = np.cos(theta_solution[:, frame])\n",
    "    y = np.sin(theta_solution[:, frame])\n",
    "    points.set_data([x], [y])\n",
    "\n",
    "    x_center = np.mean(x)\n",
    "    y_center = np.mean(y)\n",
    "    x_com_trace.append(x_center)\n",
    "    y_com_trace.append(y_center)\n",
    "    com.set_data([x_center], [y_center])  # Calcul du centre de masse\n",
    "    trajectory.set_data([x_com_trace], [y_com_trace])  # Mise à jour de la trajectoire\n",
    "\n",
    "    return points, com, trajectory\n",
    "\n",
    "ani = animation.FuncAnimation(fig, update, frames=range(0, len(t_vec), sous_echant_frames_anim), init_func=init, interval=60, blit=True)\n",
    "display(HTML(ani.to_jshtml()))"
   ]
  },
  {
   "cell_type": "markdown",
   "id": "0f89fd02",
   "metadata": {},
   "source": [
    "# 3. **Application à un cas réel** : Échanges <span style=\"color:blue\">t</span><span style=\"color:deepskyblue\">h</span><span style=\"color:mediumslateblue\">e</span><span style=\"color:mediumpurple\">r</span><span style=\"color:mediumorchid\">m</span><span style=\"color:orchid\">i</span><span style=\"color:hotpink\">q</span><span style=\"color:deeppink\">u</span><span style=\"color:crimson\">e</span><span style=\"color:red\">s</span> dans un bâtiment\n",
    "---"
   ]
  },
  {
   "cell_type": "markdown",
   "id": "8b6923b1",
   "metadata": {},
   "source": [
    "Quel est le scénario de chauffage est le **moins énergivore** : une désactivation du radiateur pour la journée ou une légère diminution de la température cible? Forts de notre intuition, nous savons qu'il faut minimiser l'énergie associée au chauffage.\n",
    "$$\n",
    "\\text{À minimiser : } E_{\\mathrm{chauffage}} = \\int_{t_i}^{t_f} P_{\\mathrm{radiateur}}(\\tau)\\text{d}\\tau.\n",
    "$$\n",
    "\n",
    "<img src=\"inc/radiateur_off.png\" width=1000 height=450 />\n"
   ]
  },
  {
   "cell_type": "markdown",
   "id": "42c7bf8b",
   "metadata": {},
   "source": [
    "### Hypothèses\n",
    "1) **Loi de Fourier** pour la conduction de chaleur $\\frac{\\text{d}U(t)}{\\text{d}t} = \\frac{\\kappa A}{d}\\Delta T$, est le mode dominant de transfert thermique [10].\n",
    "\n",
    "2) **Gaz parfait** : l'énergie interne,\n",
    "$\n",
    "\\text{d}U = nC_v \\text{d}T,\n",
    "$\n",
    "ne dépend que de la température de l'air.\n",
    "\n",
    "3) **Temps de relaxation** thermique : le temps que prend une pièce pour uniformiser sa température est négligeable comparativement au temps caractéristique des transferts thermiques entre pièces, si bien que\n",
    "$\n",
    "\\tau_{\\mathrm{relax}} \\ll \\tau_{\\mathrm{transfert}},\n",
    "$\n",
    "ce qui permet de désigner la température d'une pièce $i$ simplement par $T_i(t)$.\n",
    "\n",
    "4) On considère qu'aucun échange d'air n'a lieu entre les pièces et que la quantité initiale est donc confinée à chaque pièce.\n",
    "\n"
   ]
  },
  {
   "cell_type": "markdown",
   "id": "b8b52695",
   "metadata": {},
   "source": [
    "### Mathématisation du problème"
   ]
  },
  {
   "cell_type": "markdown",
   "id": "d11e3e00",
   "metadata": {},
   "source": [
    "\n",
    "En combinant l'expression de variation d'énergie interne d'un gaz parfait,\n",
    "$$\n",
    "\\text{d}U = nC_v \\text{d}T,\n",
    "$$\n",
    "et la loi de Fourier pour la conduction thermique,\n",
    "$$\n",
    "\\frac{\\text{d}U}{\\text{d}t} = \\frac{\\kappa A}{d}\\Delta T\n",
    "$$\n",
    "$$\n",
    "\\Longleftrightarrow \\text{d}U(t)  = \\frac{\\kappa A}{d}\\Delta T\\text{d}t,\n",
    "$$\n",
    "nous obtenons\n",
    "$$\n",
    "\\text{d}U = \\text{d}U \\implies nC_v \\text{d}T(t) = \\frac{\\kappa A}{d}\\Delta T(t) \\text{d}t \n",
    "$$\n",
    "$$\n",
    "\\Longleftrightarrow \\boxed{nC_v \\frac{\\text{d}T(t)}{\\text{d}t} = \\frac{\\kappa A}{d}\\Delta T(t)}.\n",
    "$$\n",
    "Au passage, il est intéressant de remarquer que cette relation est **équivalente à la loi de refroidissement des corps**, formulée par Newton en 1701 [4]."
   ]
  },
  {
   "cell_type": "markdown",
   "id": "4fa1e6fa",
   "metadata": {},
   "source": [
    "En ce qui nous concerne, comme le taux de variation de température d'une pièce $i$ causé par le transfert thermique avec la pièce $j$ est proportionnel à la différence $\\Delta T_{ij}(t) \\equiv -(T_i(t)-T_j(t))$, on obtient\n",
    "$$\n",
    "n_iC_v \\frac{\\text{d}T_i(t)}{\\text{d}t} = -\\sum_{j\\neq i} \\underbrace{\\frac{\\kappa_{ij} A_{ij}}{d_{ij}}}_{\\equiv k_{ij}}\\Big(T_i(t) - T_j(t)\\Big),\n",
    "$$\n",
    "où il faut sommer sur les $j\\in\\{1,...,N\\}\\backslash \\{i\\}$ autres pièces, qui agissent à titre de \"tributaires\" thermiques."
   ]
  },
  {
   "cell_type": "markdown",
   "id": "5c8cbfd0",
   "metadata": {},
   "source": [
    "Nous ne sommons pas sur $j=i$ étant donné qu'on n'assume aucune conductance de la pièce $i$ avec elle-même : $k_{ii} = 0 \\; \\forall i \\in \\mathbb{N}$. La diagonale de la matrice d'adjacence est donc nulle, ce qui nécessite le facteur $(1-\\delta_{ij})$, de telle sorte que\n",
    "$$\n",
    "\\boxed{n_iC_v \\frac{\\text{d}T_i(t)}{\\text{d}t}  = -\\sum_{j=1}^N k_{ij} \\Big(T_i(t) - T_j(t)\\Big) (1-\\delta_{ij}) }.\n",
    "$$\n",
    "Cette situation correspond bien à celle d'un bâtiment de $N$ pièces, lesquelles présentent des conductances thermiques encapsulées par la matrice d'adjacence\n",
    "$$\n",
    "K = \\left [ k_{ij}\\right ].\n",
    "$$\n"
   ]
  },
  {
   "cell_type": "markdown",
   "id": "89d241e0",
   "metadata": {},
   "source": [
    "#### Exemple de matrice d'adjacence $A=\\left[a_{ij}\\right]$ d'un graphe non orienté (symétrique) à $N=10$ noeuds\n",
    "<p float=\"left\">\n",
    "    <img src=https://mathinsight.org/media/image/image/small_undirected_network.png width = \"300\"/>\n",
    "    <img src=\"inc/right_arrow.png\" width = \"300\" height = \"300\"/>\n",
    "    <img src=https://mathinsight.org/media/image/image/small_undirected_network_numbered.png width = \"300\"/>\n",
    "</p>\n",
    "\n",
    "Dans notre cas, toutefois, nous voulons éviter d'avoir à exprimer l'ÉDO en termes de différences en température $\\Delta T_{ij}$, puisque cela empêche l'<span style=\"color:cyan\">**écriture sous forme matricielle!**</span>"
   ]
  },
  {
   "cell_type": "markdown",
   "id": "c54d2b4e",
   "metadata": {},
   "source": [
    "#### Écriture sous forme matricielle de l'ÉDO\n",
    "\n",
    "Pour pouvoir réécrire l'équation seulement en termes de vecteurs et de matrices, on cherche donc une forme condensée exploitant le produit matriciel :\n",
    "$$\n",
    "\\underbrace{n_iC_v}_{\\equiv C_{ii}} \\frac{\\text{d}T_i(t)}{\\text{d}t}  = -\\sum_{j=1}^N k_{ij} \\Big(T_i(t) - T_j(t)\\Big) (1-\\delta_{ij}) \\Longrightarrow C\\frac{\\text{d}\\mathbf{T}(t)}{\\text{d}t} = - L\\mathbf{T}(t),\n",
    "$$\n",
    "où la matrice d'«inertie» thermique $C$ ainsi que la matrice de couplage globale $L=[l_{ij}]$, qui encapsule tous les transferts thermiques par conduction, sont introduites. La question qui se pose maintenant est : est-ce possible et de construire une telle matrice ($L$) et, le cas échéant, de quoi sera-t-elle constituée?\n"
   ]
  },
  {
   "cell_type": "markdown",
   "id": "b6802d93",
   "metadata": {},
   "source": [
    "Pour commencer, intéressons-nous au côté droit de l'ÉDO et distinguons les deux termes contenus dans le terme général de la somme.\n",
    "$$\n",
    "\\sum_{j=1}^N k_{ij}\\Big(T_i(t) - T_j(t))(1-\\delta_{ij}) = \\sum_{j=1}^N k_{ij}T_i(t)(1-\\delta_{ij}) - \\sum_{j=1}^N k_{ij}T_j(t)(1-\\delta_{ij})\n",
    "$$"
   ]
  },
  {
   "cell_type": "markdown",
   "id": "babf0042",
   "metadata": {},
   "source": [
    "Pour retrouver la forme d'un produit matriciel avec un éventuel vecteur de températures $\\mathbf{T}$, on doit mettre en évidence le facteur $T_i(t)$ au premier terme, pour les éléments diagonaux de $L$. De même, le facteur $T_j(t) (1-\\delta_{ij})$ doit être mis en évidence du deuxième terme pour les éléments hors diagonale de la matrice $L$, ce qui donne\n",
    "$$\n",
    "\\underbrace{\\Bigg [\\sum_{j=1}^N k_{ij}(1-\\delta_{ij}) \\Bigg]}_{\\equiv l_{ii}}T_i(t) + \\sum_{j=1}^N \\underbrace{\\Bigg[-k_{ij}\\Bigg]}_{\\equiv l_{ij}}T_j(t)(1-\\delta_{ij}).\n",
    "$$"
   ]
  },
  {
   "cell_type": "markdown",
   "id": "ef19b23e",
   "metadata": {},
   "source": [
    "Il est maintenant possible de faire correspondre tout le reste des termes à l'expression de $L_{ij}$, selon que $i=j$ (diagonale) ou que $i\\neq j$ (hors diagonale), si bien que\n",
    "$$\n",
    "l_{ij} = \\underbrace{\\Bigg[ \\sum_{\\xi=1}^N k_{i\\xi} (1-\\delta_{i\\xi}) \\Bigg]}_{\\text{Diagonale}}\\delta_{ij} + \\underbrace{\\Bigg [-k_{ij} \\Bigg]}_{\\text{Hors diagonale}}(1-\\delta_{ij}) \\hspace{12pt} \\Longleftrightarrow \\hspace{12pt} l_{ij} = \\begin{cases} \\sum_{\\xi=1}^N k_{i\\xi} (1-\\delta_{i\\xi}) \\hspace{12pt} \\text{ si } j=1, \\\\ -k_{ij} \\hspace{12pt} \\text{ si }j\\neq i.\\end{cases}\n",
    "$$\n"
   ]
  },
  {
   "cell_type": "markdown",
   "id": "ec7c2452",
   "metadata": {},
   "source": [
    "Forts de cette expression pour $L$, on peut maintenant sans tracas exprimer l'ÉDO sous forme purement martricielle comme \n",
    "$$\n",
    "\\boxed{C\\frac{\\text{d}\\mathbf{T}(t)}{\\text{d}t} = - L\\mathbf{T}(t)}.\n",
    "$$"
   ]
  },
  {
   "cell_type": "markdown",
   "id": "e7f4f45f",
   "metadata": {},
   "source": [
    "**Fait intéressant :** cette matrice $L$ qui combine des conductances thermiques correspond à une **matrice de Laplace** [5] où les éléments sur la diagonale sont les degrés pondérés entrants. Une telle matrice a la particularité d'être définie positive (c'est-à-dire qu'elle ne possède que des valeurs propres positives) [6]. Ce faisant, sans l'intervention de radiateurs, les températures des pièces sont vouées à se stabiliser de manière monotone vers des valeurs d'équilibre thermique, ce qui se démontre aisément dans l'*espace propre* de $C^{-1}L$, quantité matricielle également définie positive (voir annexe C pour détails).\n"
   ]
  },
  {
   "cell_type": "markdown",
   "id": "aca622c2",
   "metadata": {},
   "source": [
    "Maintenant que nous avons formulé mathématiquement les échanges thermiques entre pièces $i$ et $j$, nous pouvons introduire les deux autres composantes-clés au modèle : la puissance de chauffage des radiateurs $\\mathbf{P}(t)$ pour les $N$ pièces ainsi que le transfert thermique avec l'extérieur, de température $T_{\\mathrm{ext}}$, qui peut être vu comme le \"chauffage du deillors\" (en bon français).\n",
    "\n",
    "#### Sous forme scalaire :\n",
    "$$\n",
    "\\boxed{C_i \\frac{\\text{d}T_i(t)}{\\text{d}t}=  \\underbrace{-\\sum_{j=i}^{N}L_{ij}T_j(t)}_{\\text{Transferts thermiques entre les pièces}} +\\underbrace{P_i(t)}_{\\text{Chauffage}}  - \\underbrace{K_{\\mathrm{ext},i}(T_i(t) - T_{\\mathrm{ext}})}_{\\text{Pertes vers l'extérieur}}}\n",
    "$$\n",
    "\n",
    "#### Sous forme matricielle :\n",
    "$$\n",
    "\\boxed{\\frac{\\text{d}\\mathbf{T}(t)}{\\text{d}t} = \\underbrace{C^{-1}}_{\\text{Inertie thermique}} \\Big(- L\\mathbf{T}(t) + \\mathbf{P}(t)  - K_{\\mathrm{ext}}\\left(\\mathbf{T}(t) - \\mathbf{T}_{\\mathrm{ext}} \\right) \\Big)}\n",
    "$$"
   ]
  },
  {
   "cell_type": "markdown",
   "id": "94e048d4",
   "metadata": {},
   "source": [
    "### Estimation de la matrice d'adjacence à partir de données réelles\n",
    "\n",
    "<img src=\"inc/plan_appart.png\" width=1000 height=450 />\n",
    "\n",
    "**Légende :**\n",
    "- <span style=\"color:pink\">Mur isolant parfait (0 W/m*K)</span>\n",
    "- <span style=\"color:cyan\">Mur vers l'extérieur (0.05 W/m*K)</span>\n",
    "- <span style=\"color:yellow\">Mur de gypse (0.2 W/m*K)</span>\n"
   ]
  },
  {
   "cell_type": "code",
   "execution_count": null,
   "id": "a8400cf1",
   "metadata": {},
   "outputs": [],
   "source": [
    "\"\"\"\n",
    "Choissons judicieusement les paramètres pour estimer la conductance \n",
    "à partir de la conductivité, de la superficie et de l'épaisseur des murs communs.\n",
    "\"\"\"\n",
    "\n",
    "# Paramètres réalistes pour estimer par après la conductance thermique.\n",
    "kappa_ext = 0.03  # Conductivité thermique plausible pour mur extérieur [W/m*K]\n",
    "kappa = 0.2       # Conductivité thermique plausible pour du gypse [W/m*K]\n",
    "d_ext = 0.3       # Épaisseur des murs extérieurs [m]\n",
    "d = 0.1           # Épaisseur des murs entre les pièces [m]\n",
    "hauteur = 3       # Hauteur du plafond [m]\n"
   ]
  },
  {
   "cell_type": "code",
   "execution_count": null,
   "id": "6db9227f",
   "metadata": {},
   "outputs": [],
   "source": [
    "\n",
    "\"\"\"\n",
    "Définissons la matrice répertoriant les superficies (en m^2).\n",
    "Celle-ci est symétrique puisque les aires sont partagées.\n",
    "\"\"\"\n",
    "\n",
    "A = np.zeros((6,6)) # Par défaut, les pièces ne sont pas connectées.\n",
    "A[0,5] = 2.5*hauteur # Entre pièces 1 et 6\n",
    "A[1,5] = 2.5*hauteur # Entre pièces 2 et 6\n",
    "A[1,2] = 4.0*hauteur # Entre pièces 2 et 3\n",
    "A[2,3] = 4.0*hauteur # Entre pièces 3 et 4\n",
    "A[3,4] = 4.0*hauteur # Entre pièces 4 et 5\n",
    "A += A.T # Symétrisons la matrice des aires.\n",
    "print(A)"
   ]
  },
  {
   "cell_type": "code",
   "execution_count": null,
   "id": "5333c411",
   "metadata": {},
   "outputs": [],
   "source": [
    "\n",
    "\"\"\"\n",
    "1) Définissons le vecteur contenant les superficies de façade extérieure.\n",
    "2) De même, définissons le vecteur contenant les volumes des pièces.\n",
    "\"\"\"\n",
    "A_ext = hauteur*np.array([4+5, 4+5, 5, 4, 5+4, 2.5])\n",
    "volumes_pieces = hauteur*np.array([4*5, 4*5, 4*5, 4*4, 5*4, 2.5*2.5])"
   ]
  },
  {
   "cell_type": "code",
   "execution_count": null,
   "id": "df366aec",
   "metadata": {},
   "outputs": [],
   "source": [
    "\"\"\"\n",
    "Définissons la matrice des conductivités thermiques (en W/m*K).\n",
    "Ce ne sont pas toutes les pièces qui sont connectées entre elles.\n",
    "\n",
    " - Rose = mur isolant parfait (0 W/m*K)\n",
    " - Bleu = mur vers l'extérieur (0.1 W/m*K)\n",
    " - Jaune = mur de gypse (0.2 W/m*K)\n",
    "\"\"\"\n",
    "\n",
    "conductivites = kappa*np.ones((6,6))"
   ]
  },
  {
   "cell_type": "code",
   "execution_count": null,
   "id": "60271bde",
   "metadata": {},
   "outputs": [],
   "source": [
    "\"\"\"\n",
    "1) Calculons la matrice de conductance (dite d'«adjacence»).\n",
    "2) De même pour le vecteur de conductance avec l'extérieur.\n",
    "\"\"\"\n",
    "\n",
    "K = np.multiply(A,conductivites)/d\n",
    "K_ext = A_ext*kappa_ext/d_ext\n",
    "\n",
    "print(\"Matrice d'adjacence K :\")\n",
    "print(K)\n",
    "print(\"Vecteur de conductances vers l'extérieur :\")\n",
    "print(K_ext)"
   ]
  },
  {
   "cell_type": "code",
   "execution_count": null,
   "id": "e17a016c",
   "metadata": {},
   "outputs": [],
   "source": [
    "\"\"\"\n",
    "Calculons la matrice laplacienne (L) de conductance à partir de la matrice d'adjacence (K).\n",
    "\"\"\"\n",
    "\n",
    "L = np.zeros_like(K)\n",
    "for i in range(L.shape[0]):\n",
    "    for j in range(L.shape[1]):\n",
    "        if i != j:\n",
    "            L[i, j] = -K[i, j] # Hors diagonale\n",
    "        else:\n",
    "            L[i, j] = np.sum(K[i, :]) # Sur diagonale\n",
    "\n",
    "print(\"Matrice laplacienne de conductance thermique L :\")\n",
    "print(L)\n"
   ]
  },
  {
   "cell_type": "code",
   "execution_count": null,
   "id": "e9e0cf9f",
   "metadata": {},
   "outputs": [],
   "source": [
    "rho_air = 1.2 # [Kg/m^3]\n",
    "masse_molaire_air = 29e-3 # [Kg/mol]\n",
    "densite_molaire = rho_air / masse_molaire_air\n",
    "C = densite_molaire*np.diag(volumes_pieces)  # Matrice des \"inerties thermiques\" (chaleurs spécifiques par nombre de moles).\n",
    "print(C)"
   ]
  },
  {
   "cell_type": "markdown",
   "id": "dfc55fab",
   "metadata": {},
   "source": [
    "#### Planification d'un horaire de chauffage\n"
   ]
  },
  {
   "cell_type": "code",
   "execution_count": null,
   "id": "bc3e8d89",
   "metadata": {},
   "outputs": [],
   "source": [
    "# Temps d'intégration.\n",
    "t_f = 20000 # [s]\n",
    "t_domaine = np.linspace(0, t_f, t_f)\n",
    "dt = t_domaine[1] - t_domaine[0]\n",
    "\n",
    "T_0 = 20.0*np.ones(6) # Températures initiales (CI).\n",
    "T_ext = -15.0 # Fait frette deillors!\n",
    "\n",
    "def T_ext_fonction(t):\n",
    "    return np.ones(6)*T_ext # Fonction constante, (journée pas de soleil, mettons)\n",
    "\n",
    "T_off = 0 # Température jugée comme étant \"off\"\n",
    "piece_off = 2 # Salon\n",
    "off_temps_debut = int(0.05*t_f) # Temps à partir duquel on repart le chauffage en fin de journée\n",
    "off_temps_fin = int(0.5*t_f) # Temps à partir duquel on met un radiateur à off\n"
   ]
  },
  {
   "cell_type": "code",
   "execution_count": null,
   "id": "27524ec3",
   "metadata": {},
   "outputs": [],
   "source": [
    "\n",
    "T_horaire = np.array([T_0 for _ in range(t_domaine.shape[0])])\n",
    "T_horaire_off = T_horaire.copy()\n",
    "\n",
    "print(T_horaire_off.shape)\n",
    "\n",
    "\n",
    "for i,temps_actuel in enumerate(t_domaine):\n",
    "    if temps_actuel > off_temps_debut and temps_actuel < off_temps_fin:\n",
    "        T_horaire_off[i,piece_off] = T_off\n",
    "\n",
    "\n",
    "def T_cible_fonction(t_actuel, t_vect, T_hor):\n",
    "    index = np.searchsorted(t_vect, t_actuel, side=\"right\") - 1\n",
    "    index = max(0, min(index, T_hor.shape[0] - 1))\n",
    "    return T_hor[index, :]\n",
    "\n",
    "plt.figure(figsize=(8,3))\n",
    "plt.plot(t_domaine/3600, T_horaire[:,piece_off], label=\"Sans OFF\", color=\"darkRed\")\n",
    "plt.plot(t_domaine/3600, T_horaire_off[:,piece_off], label=\"Avec OFF\", color=\"darkGreen\")\n",
    "plt.xlabel(\"Temps [h]\")\n",
    "plt.ylabel(r\"Temp. ciblée [$^{\\circ}$C]\")\n",
    "plt.legend()\n",
    "plt.show()\n"
   ]
  },
  {
   "cell_type": "markdown",
   "id": "67f237ac",
   "metadata": {},
   "source": [
    "#### Usage d'un contrôleur PID\n",
    "Voici les ancêtres des mécanismes de contrôle que nous allons implémenter dans cette simulation [2]. Il s'agit de régulateurs à boules [7], qui ont été inventés pour régulariser la vitesse de rotation des premières machines à vapeur. Aujourd'hui, le principe de base de ces mécanismes est utilisé dans toutes sortes de dispostifs de stabilisation, allant du *cruise-control* sur nos routes à nos thermostats, dans nos maisons. C'est cette dernière application qui nous intéresse.\n",
    "<p float=\"left\">\n",
    "    <img src=\"inc/regulateur_machine_vapeur.png\" width=600 height=450 />\n",
    "    <img src=\"inc/regulateur_boules_zoom.png\" width=350 height=450 />\n",
    "</p>\n",
    "\n",
    "Plus spécifiquement, les contrôleurs PID (Proportionnel-Intégral-Dérivé) sont des outils essentiels pour réguler des systèmes dynamiques. Ils permettent de maintenir une variable de sortie à une valeur désirée en ajustant continuellement les entrées du système. Le contrôleur PID combine trois actions de contrôle distinctes :\n",
    "\n",
    "1. **Action proportionnelle (P)** : Cette action est proportionnelle à l'erreur actuelle, c'est-à-dire la différence entre la valeur mesurée et la valeur cible. Elle permet une réponse rapide aux variations de l'erreur.\n",
    "2. **Action intégrale (I)** : Cette action est proportionnelle à l'intégrale de l'erreur sur le temps. Elle corrige les erreurs accumulées sur le long terme, éliminant ainsi les erreurs résiduelles.\n",
    "3. **Action dérivée (D)** : Cette action est proportionnelle à la dérivée de l'erreur. Elle anticipe les variations futures de l'erreur, apportant une stabilité et réduisant les oscillations.\n",
    "\n",
    "La combinaison de ces trois actions permet au contrôleur PID de fournir une réponse équilibrée et efficace, en minimisant l'erreur et en stabilisant le système. Les gains proportionnel ($K_p$), intégral ($K_i$) et dérivé ($K_d$) doivent être ajustés pour chaque application spécifique afin d'obtenir les performances souhaitées."
   ]
  },
  {
   "cell_type": "code",
   "execution_count": null,
   "id": "b8bb47fd",
   "metadata": {},
   "outputs": [],
   "source": [
    "%run simul_chauffage.py\n",
    "\n",
    "# Définissons les gains du contrôleur PID\n",
    "K_p = 10\n",
    "K_i = 0.1\n",
    "K_d = 1\n",
    "\n",
    "pid = PIDController(T_cible_fonction(t_domaine[0], t_domaine, T_horaire), K_p, K_i, K_d)\n",
    "\n",
    "def P_fonction(t, t_vect, T, T_hor):\n",
    "    T_cible = T_cible_fonction(t, t_vect, T_hor)\n",
    "    if np.any(T_cible != pid.T_target):\n",
    "        pid.update_T_target(T_cible)\n",
    "        pid.reset()  # Réinitialiser l'intégrale de l'erreur et l'erreur précédente\n",
    "    return pid.calcul_puissance(T, dt)\n",
    "\n",
    "T_sans_off, P_sans_off = simule_modele_thermique(C, L, K_ext, T_ext_fonction,\n",
    "    lambda t, T: P_fonction(t, t_domaine, T, T_horaire), T_0, t_domaine)\n",
    "\n",
    "T_avec_off, P_avec_off = simule_modele_thermique(C, L, K_ext, T_ext_fonction,\n",
    "    lambda t, T: P_fonction(t, t_domaine, T, T_horaire_off), T_0, t_domaine)"
   ]
  },
  {
   "cell_type": "code",
   "execution_count": null,
   "id": "c050ad4c",
   "metadata": {},
   "outputs": [],
   "source": [
    "# Affichage des résultats.\n",
    "legends = [ f\"Pièce {i+1}\" for i in range(L.shape[0])]\n",
    "\n",
    "plt.figure(figsize=(10, 8))\n",
    "plt.subplot(2, 1, 1)\n",
    "for i in range(T_avec_off.shape[1]):\n",
    "    plt.plot(t_domaine, T_avec_off[:,i], linewidth=2, label=legends[i])\n",
    "plt.plot(t_domaine, T_horaire_off[:,piece_off], linestyle=\"--\", linewidth=2,color=\"black\", label=\"Horaire OFF\")\n",
    "plt.legend(loc=\"upper right\")\n",
    "plt.xlabel(\"Temps [s]\")\n",
    "plt.ylabel(r\"Température [$^{\\circ}$C]\")\n",
    "plt.title(\"Simulation des transferts thermiques\")\n",
    "\n",
    "plt.subplot(2, 1, 2)\n",
    "plt.plot(t_domaine, P_avec_off, linestyle=\"--\", linewidth=2)\n",
    "plt.plot(t_domaine, P_sans_off, linestyle=\"-\", linewidth=2)\n",
    "extra_ylim = 30\n",
    "plt.ylim(min([np.min(P_avec_off),np.min(P_sans_off)])-extra_ylim, max([np.max(P_avec_off),np.max(P_sans_off)])+extra_ylim)\n",
    "plt.plot(t_domaine, P_sans_off[:,0]-1e6, linestyle=\"--\", color=\"black\", linewidth=2, label=\"Avec OFF\") # Série OFF fantôme\n",
    "plt.plot(t_domaine, P_sans_off[:,0]-1e6, linestyle=\"-\", color=\"black\", linewidth=2, label=\"Sans OFF\") # Série OFF fantôme\n",
    "\n",
    "plt.xlabel(\"Temps [s]\")\n",
    "plt.ylabel(\"Puissance de chauffage [W]\")\n",
    "plt.legend(loc=\"upper right\")\n",
    "plt.title(\"Puissance de chauffage au cours du temps\")\n",
    "\n",
    "plt.tight_layout()\n",
    "plt.show()\n"
   ]
  },
  {
   "cell_type": "code",
   "execution_count": null,
   "id": "15ac0839",
   "metadata": {},
   "outputs": [],
   "source": [
    "# Calculer l'énergie totale de chauffage pour chaque pièce.\n",
    "E_sans_off = np.trapz(P_sans_off, t_domaine, axis=0)\n",
    "E_avec_off = np.trapz(P_avec_off, t_domaine, axis=0)\n",
    "\n",
    "\n",
    "# Polir un peu les résultats (mettre en kJ)\n",
    "E_tot_sans_off = round(np.sum(E_sans_off)/1e3)\n",
    "E_tot_avec_off = round(np.sum(E_avec_off)/1e3)\n",
    "\n",
    "# Afficher un histogramme pour les énergies de chaque pièce\n",
    "plt.figure(figsize=(10, 6))\n",
    "plt.bar(range(1, L.shape[0] + 1), E_avec_off*1e-3, tick_label=[f\"{i+1}\" for i in range(L.shape[0])], color=\"darkBlue\", alpha=0.4, label=f\"Avec OFF : {E_tot_avec_off} kJ\")\n",
    "plt.bar(range(1, L.shape[0] + 1), E_sans_off*1e-3, tick_label=[f\"{i+1}\" for i in range(L.shape[0])], color=\"darkRed\", alpha=0.4, label=f\"Sans OFF : {E_tot_sans_off} kJ\")\n",
    "plt.xlabel(\"Pièce\")\n",
    "plt.ylabel(\"Énergie totale de chauffage [kJ]\")\n",
    "plt.title(\"Énergie totale de chauffage pour chaque pièce\")\n",
    "plt.legend()\n",
    "plt.show()"
   ]
  },
  {
   "cell_type": "markdown",
   "id": "e1daa7b1",
   "metadata": {},
   "source": [
    "#### Bref, je dois me rendre à l'évidence : avec ce modèle, mon coloc semble avoir raison!"
   ]
  },
  {
   "cell_type": "markdown",
   "id": "6643833b-1bd4-4177-9ff1-91f231e7b85b",
   "metadata": {},
   "source": [
    "# 4. Conclusion : Et si les simulations apprenaient d'elles-mêmes ?\n",
    "---\n",
    "\n",
    "Nous avons illustré au moyen de trois exemples en quoi les simulations numériques permettent de modéliser des systèmes complexes en physique. Mais que se passerait-il si, au lieu de coder explicitement chaque interaction, on laissait un modèle apprendre ces dynamiques?\n",
    "\n",
    "C’est là qu’interviennent les réseaux neuronaux entraînés sur des modèles physiques. Plutôt que d’évaluer chaque équation pas à pas, on entraîne un réseau sur des données simulées. Une fois entraîné, le réseau tente de prédire l’évolution du système bien plus rapidement qu’une intégration numérique classique. \n",
    "\n",
    "En théorie, cette méthode est loin d'être farfelue, puisqu'on sait depuis 1989 [1] qu'un réseau neuronal peut agir à titre d'« approximateur universel » de toutes fonctions continues! Il est donc logique d'essayer de capturer la dynamique d'un système de cette manière.\n",
    "\n",
    "Le potentiel de cette approche pour accélérer les simulations est déjà exploré dans plusieurs domaines, dont les sciences de la Terre [11]. \n",
    "\n",
    "\n",
    "**Les PINNs : le bac à sable du futur**\n",
    "\n",
    "Les simulations basées sur les équations (comme celles du présent atelier) sont complémentaires à celles basées sur l’apprentissage machine. En combinant la rigueur des modèles physiques avec la puissance des réseaux neuronaux, on ouvre la voie à des simulations \n",
    "1) plus rapides,\n",
    "2) moins énergivores,\n",
    "3) détenant la capacité de généraliser sur de nouveaux cas.\n",
    "   \n",
    "On parle alors de « réseaux de neurones informés par la physique », ou PINNs (*Physics-informed neural networks*) en anglais. [8]"
   ]
  },
  {
   "cell_type": "markdown",
   "id": "14f900ef-bfd2-41e0-9eea-e04c4e103804",
   "metadata": {},
   "source": [
    "# 5. Références\n",
    "---\n",
    "\n",
    "[1] G. Cybenko, “Approximation by superpositions of a sigmoidal function,” Math. Control Signal Systems, vol. 2, no. 4, pp. 303–314, Dec. 1989, doi: 10.1007/BF02551274.\n",
    "\n",
    "[2] “Centrifugal governor,” Wikipedia. Feb. 28, 2025. Accessed: Mar. 04, 2025. [Online]. Available: https://en.wikipedia.org/w/index.php?title=Centrifugal_governor&oldid=1278155029\n",
    "\n",
    "[3] M. D. Greenfield and B. Merker, “Coordinated rhythms in animal species, including humans: Entrainment from bushcricket chorusing to the philharmonic orchestra,” Neuroscience & Biobehavioral Reviews, vol. 153, p. 105382, Oct. 2023, doi: 10.1016/j.neubiorev.2023.105382.\n",
    "\n",
    "[4] “Loi de refroidissement de Newton,” Wikipédia. Jul. 29, 2023. Accessed: Mar. 02, 2025. [Online]. Available: https://fr.wikipedia.org/w/index.php?title=Loi_de_refroidissement_de_Newton&oldid=206457504\n",
    "\n",
    "[5] “Matrice laplacienne,” Wikipédia. Sep. 15, 2024. Accessed: Mar. 02, 2025. [Online]. Available: https://fr.wikipedia.org/w/index.php?title=Matrice_laplacienne&oldid=218663112\n",
    "\n",
    "[6] E. W. Weisstein, “Positive Definite Matrix.” Accessed: Mar. 02, 2025. [Online]. Available: https://mathworld.wolfram.com/PositiveDefiniteMatrix.html\n",
    "\n",
    "[7] “Régulateur à boules,” Wikipédia. Apr. 11, 2024. Accessed: Mar. 04, 2025. [Online]. Available: https://fr.wikipedia.org/w/index.php?title=R%C3%A9gulateur_%C3%A0_boules&oldid=214156361\n",
    "\n",
    "[8] S. Cuomo, V. S. Di Cola, F. Giampaolo, G. Rozza, M. Raissi, and F. Piccialli, “Scientific Machine Learning Through Physics–Informed Neural Networks: Where we are and What’s Next,” J Sci Comput, vol. 92, no. 3, p. 88, Jul. 2022, doi: 10.1007/s10915-022-01939-z.\n",
    "\n",
    "[9] R. Axelrod and W. D. Hamilton, “The evolution of cooperation,” Science, vol. 211, no. 4489, pp. 1390–1396, Mar. 1981, doi: 10.1126/science.7466396.\n",
    "\n",
    "[10] “Thermal conduction,” Wikipedia. Feb. 25, 2025. Accessed: Mar. 02, 2025. [Online]. Available: https://en.wikipedia.org/w/index.php?title=Thermal_conduction&oldid=1277574658\n",
    "\n",
    "[11] C. Irrgang et al., “Towards neural Earth system modelling by integrating artificial intelligence in Earth system science,” Nat Mach Intell, vol. 3, no. 8, pp. 667–674, Aug. 2021, doi: 10.1038/s42256-021-00374-3.\n",
    "\n",
    "[12] Veritasium, What Game Theory Reveals About Life, The Universe, and Everything, (2023). Accessed: Mar. 03, 2025. [Online Video]. Available: https://www.youtube.com/watch?v=mScpHTIi-kM\n",
    "\n",
    "\n"
   ]
  },
  {
   "cell_type": "markdown",
   "id": "14a90892-3e0f-450d-b5a7-a54d92c6351f",
   "metadata": {},
   "source": [
    "# ANNEXES\n",
    "---\n",
    "\n",
    "## Annexe A : Autres exemples de simulation\n",
    "### i) Simulateur écologique\n",
    "Un simulateur écologique basé sur l'individu a été développé dans le cadre du cours de *Dynamique non linéaire et chaos*. Il a été en mesure de mettre en évidence l'émergence de la collaboration entre des invidus qui interagissent entre eux dans un contexte de ressources limitées. \n",
    "\n",
    "<p float=\"left\">\n",
    "    <img src=\"inc/simul_chaos_lapino.png\" width=600 height=600 />\n",
    "    <img src=\"inc/simul_chaos_carte.png\" width=600 height=600 />\n",
    "</p>\n",
    "\n",
    "\n",
    "Ce sujet a été largement exploré par des chercheurs en biologie et en théorie du jeu. Pour approfondir la question de l’évolution de la coopération, voici quelques ressources clés :\n",
    "* *Le Gène égoïste*, par Richard Dawkins.\n",
    "* *The Evolution of Cooperation*, par Robert Axelrod [9].\n",
    "* [*Why is Cooperation So Hard*](https://www.youtube.com/watch?v=mScpHTIi-kM), par Veritasium [12].\n",
    "\n",
    "### ii) Activité neuronale\n",
    "De nombreuses simulations ont été réalisées en intégrant des modèles d'activité neuronale. Parmi celles-ci, certains modèles se sont avérés plus prometteurs que d’autres, en particulier une version modifiée de réseau neuronal récurrent à taux de décharge respectant la loi de Dale (c'est-à-dire avec des neurones spécialisés soit dans l'inhibition, soit dans l'excitation). Des performances remarquables ont néanmoins été obtenues avec une version matricielle du modèle de Kuramoto. Ces deux modèles ont pu reproduire la structure à l’échelle des régions du cerveau chez le poisson-zèbre (données gracieusement fournies par le laboratoire de Paul De Koninck), atteignant plus de 70 % de correspondance avec les données expérimentales (voir exemples de résultats ci-bas).\n",
    "\n",
    "<p float=\"left\">\n",
    "<img src=\"inc/RNN_SCFC.png\" width=600  />\n",
    "<img src=\"inc/kuramoto_SCFC.png\" width=600 />\n",
    "</p>\n",
    "\n",
    "Une application directe des simulations numériques est d'examiner dans quelle mesure les modèles théoriques d’activité neuronale peuvent simuler la structure neuronale à l’échelle des régions du cerveau. La connectivité fonctionnelle, mesurée par la corrélation des signaux neurophysiologiques entre régions cérébrales, est influencée par les connexions synaptiques sous-jacentes, les régions physiquement connectées ayant tendance à afficher des activités corrélées. Étant donné la difficulté d’obtenir des mesures directes de connectivité structurelle, il devient essentiel de développer des outils permettant de prédire la structure d’un réseau à partir de ses signaux d’activité fonctionnelle. Ainsi, ces modèles offrent un cadre pour explorer et affiner les liens entre activité fonctionnelle et structure neuronale.\n",
    "\n",
    "\n",
    "## Annexe B : Dynamique de \"relaxation\" des températures en l'absence des radiateurs\n",
    "Soit l'équation du système thermique sans radiateur\n",
    "$$\n",
    "C\\frac{\\text{d}\\mathbf{T}(t)}{\\text{d}t} = -L\\mathbf{T}(t) \\Longleftrightarrow \\frac{\\text{d}\\mathbf{T}(t)}{\\text{d}t} = -C^{-1}L\\mathbf{T}(t).\n",
    "$$\n",
    "On suppose que la quantité matricielle $C^{-1}L$ est diagonalisable de manière à ce que $C^{-1}L = S\\Lambda S{-1}$. Ainsi,\n",
    "$$\n",
    "\\frac{\\text{d}\\mathbf{T}(t)}{\\text{d}t} = -S\\Lambda S^{-1}\\mathbf{T}(t).\n",
    "$$\n",
    "En prenant $\\tilde{\\mathbf{T}}(t) = S{-1}\\mathbf{T}$, l'équation se diagonalise, ce qui découple les $N$ équations sous-jacentes. On obtient alors\n",
    "$$\n",
    "S^{-1}\\frac{\\text{d}\\mathbf{T}(t)}{\\text{d}t} = -\\Lambda S^{-1}\\mathbf{T}(t) \\implies \\frac{\\text{d}\\tilde{\\mathbf{T}}(t)(t)}{\\text{d}t} = -\\Lambda \\tilde{\\mathbf{T}}(t).\n",
    "$$\n",
    "Cette forme est directement intégrable. En posant $\\mathbf{T}_0 \\equiv \\mathbf{T}(0)$ comme conditions initiales, sa solution va comme\n",
    "$$\n",
    "\\tilde{\\mathbf{T}}(t) = \\tilde{\\mathbf{T}}_0\\exp\\{-\\Lambda t\\} \\implies \\mathbf{T}(t) = \\mathbf{T}_0\\exp\\{-\\Lambda t\\}.\n",
    "$$\n",
    "Ceci met en évidence que les températures sont vouées à la décroissance exponentielle. En effet, la matrice $C^{-1}$ étant diagonale et positive, son produit par $L$ ne sort pas les valeurs propres (réelles) de la positivité, signifiant alors que l'argument de l'exponentiel est strictement négatif (en raison du signe moins).\n",
    "\n",
    "## Annexe C\n",
    "\n",
    "### Recette : Comment réussir (ou pas) une simulation numérique\n",
    "\n",
    "1. **Trouver un problème :** arroser les fleurs du tapis de la curiosité intellectuelle.\n",
    "2. **Mathématiser le problème :** *soit un boeuf sphérique précédé d'une charrue...*\n",
    "3. **Choisir des paramètres plausibles :** [*Itération 1*] partons à la cueillette de cerises, sans vergogne.\n",
    "4. **Planifier une belle architecture** de code (digne du brutalisme, avec juste ce qu'il faut de chaos).\n",
    "5. **Coder**, c’est-à-dire s'adonner à la chasse aux *bugs* en écoutant du [Georges Brassens](https://www.youtube.com/watch?v=oOPBnbNxLDM).\n",
    "6. **Visualiser les résultats** (et choisir des couleurs menant à une hausse de crédibilité).\n",
    "\n",
    "À la lumière des résultats, l'on peut juger de l'aptitude du modèle à bien décrire le phénomène. Des incréments en complexité peuvent alors être rajoutés si l'on juge que c'est nécessaire."
   ]
  }
 ],
 "metadata": {
  "kernelspec": {
   "display_name": "hydro",
   "language": "python",
   "name": "python3"
  },
  "language_info": {
   "codemirror_mode": {
    "name": "ipython",
    "version": 3
   },
   "file_extension": ".py",
   "mimetype": "text/x-python",
   "name": "python",
   "nbconvert_exporter": "python",
   "pygments_lexer": "ipython3",
   "version": "3.8.17"
  }
 },
 "nbformat": 4,
 "nbformat_minor": 5
}
