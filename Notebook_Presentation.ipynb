{
 "cells": [
  {
   "cell_type": "markdown",
   "id": "9460895a-c653-4e7b-a3bf-3438c67c15b7",
   "metadata": {},
   "source": [
    "# Simulation numérique – ProgFest 2025\n",
    "---\n",
    "Par Arthur Légaré, le 5 mars 2025.\n",
    "\n",
    "*Le masculin est utilisé pour alléger le texte.*"
   ]
  },
  {
   "cell_type": "markdown",
   "id": "038c513a-2715-4b12-ae83-67ad1ba883cc",
   "metadata": {},
   "source": [
    "# Pourquoi simuler en physique?\n",
    "---\n",
    "\n",
    "Curieux de nature, le physicien est porté à expérimenter avec toutes sortes de cossins à sa disposition. Toutefois, avec la maîtrise du langage mathématique, sa curiosité vient généralement à bout des expériences immédiatement accessibles : il devient donc urgent d'agrandir le carré de sable!\n",
    "\n",
    "Venons-y : la physique comporte son lot de phénomènes qui sont décrits par des équations complexes, souvent difficiles, voire impossibles, à résoudre analytiquement. C'est là que la simulation numérique entre en jeu, notamment pour :\n",
    "1) explorer des systèmes trop complexes pour admettre une solution exacte;\n",
    "2) visualiser des dynamiques évolutives et leurs comportements émergents;\n",
    "3) tester des hypothèses et comparer avec des résultats expérimentaux.\n",
    "\n",
    "Certains puristes pourraient y voir là les contours d'une sacrification de la physmath sur l'autel de la *force brute*. Mais attention : l'usage des simulations ne relègue pas aux oubliettes la physmath. Au contraire, nous verrons plutôt que cette dernière demeure l'outil privilégié pour affuter notre intuition, guidant ainsi nos explorations numériques et facilitant l'interprétation des résultats.\n"
   ]
  },
  {
   "cell_type": "markdown",
   "id": "25b55d10-cdf7-4268-96bf-2f5f0c6e36fb",
   "metadata": {},
   "source": [
    "# 1. Plan de match\n",
    "---\n",
    "\n",
    "Nous verrons deux exemples de simulations numériques portant sur des sujets variés. Au terme de cet atelier, nous devrions être en mesure de mettre sur pied une recette pour simuler avec succès (voir annexe Z).\n",
    "\n",
    "**a) Échanges thermiques dans un bâtiment** – Comparaison entre différentes stratégies de chauffage.\n",
    "\n",
    "**b) Modèle d’activité neuronale** – Quantification de la ressemblance à la structure biologique observée.\n"
   ]
  },
  {
   "cell_type": "markdown",
   "id": "e22cb7e5-89d8-4a04-96a9-ae50a5480959",
   "metadata": {},
   "source": [
    "# 2. Comment utiliser ce notebook\n",
    "---\n",
    "* Chaque simulation sera introduite par une brève présentation du problème et des équations associées.\n",
    "\n",
    "* Le code principal est externalisé dans des fichiers Python (.py), améliorant la modularité du code. Ceci facilite ainsi l'exploration approfondie et l'implémentation de nouvelles simulations!"
   ]
  },
  {
   "cell_type": "code",
   "execution_count": 4,
   "id": "ab93775d-596b-438f-98df-d5c4f66bc2e3",
   "metadata": {},
   "outputs": [],
   "source": [
    "# Importons quelques librairies utiles.\n",
    "import numpy as np\n",
    "import matplotlib.pyplot as plt\n",
    "import math\n",
    "import numpy as np\n",
    "import copy\n",
    "import collections\n",
    "from tqdm import tqdm\n",
    "import matplotlib.pyplot as plt\n",
    "import inc.functions as fc\n",
    "import os\n",
    "import time\n",
    "import scipy as sp\n",
    "import random\n",
    "\n",
    "plt.rcParams['image.cmap'] = 'gray'\n",
    "plt.rcParams['font.size'] = 16"
   ]
  },
  {
   "cell_type": "markdown",
   "id": "6537ccf3-2a09-4ac6-8aad-d69e94e7c467",
   "metadata": {},
   "source": [
    "# 3.1 Échanges thermiques dans un bâtiment\n",
    "---"
   ]
  },
  {
   "cell_type": "markdown",
   "id": "6415d5b5-22f7-43f0-94f2-3e96fb93c416",
   "metadata": {},
   "source": [
    "### Problématique : mon coloc a l'habitude de descendre son chauffage au minimum et de fermer sa porte à son départ. Place au débat!\n",
    "Quel est le scénario de chauffage est le **moins énergivore** : une désactivation du radiateur pour la journée ou une légère diminution de la température cible? Fort de notre intuition, nous savons qu'il faut minimiser l'énergie associée au chauffage.\n",
    "$$\n",
    "\\text{À minimiser : } E_{\\mathrm{chauffage}} = \\int_{t_i}^{t_f} P_{\\mathrm{radiateur}}(\\tau)\\text{d}\\tau.\n",
    "$$\n",
    "\n",
    "<img src=\"inc/radiateur_off.png\" width=1000 height=450 />\n"
   ]
  },
  {
   "cell_type": "markdown",
   "id": "42c7bf8b",
   "metadata": {},
   "source": [
    "### Hypothèses\n",
    "1) **Loi de Fourier** pour la conduction de chaleur,\n",
    "$\n",
    "\\frac{\\text{d}U(t)}{\\text{d}t} = \\frac{\\kappa A}{d}\\Delta T,\n",
    "$\n",
    " est le mode dominant de transfert thermique.\n",
    "\n",
    "2) **Gaz parfait** : l'énergie interne,\n",
    "$\n",
    "\\text{d}U = nC_v \\text{d}T,\n",
    "$\n",
    "ne dépend que de la température de l'air.\n",
    "\n",
    "3) **Temps de relaxation** thermique : le temps que prend une pièce pour uniformiser sa température est négligeable comparativement au temps caractéristique des transferts thermiques entre pièces, si bien que\n",
    "$\n",
    "\\tau_{\\mathrm{relax}} \\ll \\tau_{\\mathrm{transfert}},\n",
    "$\n",
    "ce qui permet de désigner la température d'une pièce $i$ simplement par $T_i(t)$.\n",
    "\n",
    "4) On considère qu'aucun échange d'air n'a lieu entre les pièces et que la quantité initiale est donc confinée à chaque pièce.\n",
    "\n"
   ]
  },
  {
   "cell_type": "markdown",
   "id": "b8b52695",
   "metadata": {},
   "source": [
    "### Mathématisation du problème"
   ]
  },
  {
   "cell_type": "markdown",
   "id": "d11e3e00",
   "metadata": {},
   "source": [
    "\n",
    "En combinant l'expression de variation d'énergie interne d'un gaz parfait,\n",
    "$$\n",
    "\\text{d}U = nC_v \\text{d}T,\n",
    "$$\n",
    "et la loi de Fourier pour la conduction thermique,\n",
    "$$\n",
    "\\frac{\\text{d}U}{\\text{d}t} = \\frac{\\kappa A}{d}\\Delta T\n",
    "$$\n",
    "$$\n",
    "\\Longleftrightarrow \\text{d}U(t)  = \\frac{\\kappa A}{d}\\Delta T\\text{d}t,\n",
    "$$\n",
    "nous obtenons\n",
    "$$\n",
    "\\text{d}U = \\text{d}U \\implies nC_v \\text{d}T(t) = \\frac{\\kappa A}{d}\\Delta T(t) \\text{d}t \n",
    "$$\n",
    "$$\n",
    "\\Longleftrightarrow \\boxed{nC_v \\frac{\\text{d}T(t)}{\\text{d}t} = \\frac{\\kappa A}{d}\\Delta T(t)}.\n",
    "$$\n",
    "Au passage, il est intéressant de remarquer que cette relation est **équivalente à la loi de refroidissement des corps**, formulée par Newton en 1701 [2,7]."
   ]
  },
  {
   "cell_type": "markdown",
   "id": "4fa1e6fa",
   "metadata": {},
   "source": [
    "En ce qui nous concerne, comme le taux de variation de température d'une pièce $i$ causé par le transfert thermique avec la pièce $j$ est proportionnel à la différence $\\Delta T_{ij}(t) \\equiv -(T_i(t)-T_j(t))$, on obtient\n",
    "$$\n",
    "n_iC_v \\frac{\\text{d}T_i(t)}{\\text{d}t} = -\\sum_{j\\neq i} \\underbrace{\\frac{\\kappa_{ij} A_{ij}}{d_{ij}}}_{\\equiv k_{ij}}\\Big(T_i(t) - T_j(t)\\Big),\n",
    "$$\n",
    "où il faut sommer sur les $j\\in\\{1,...,N\\}\\backslash \\{i\\}$ autres pièces, qui agissent à titre de \"tributaires\" thermiques.\n",
    "Nous ne sommons pas sur $j=i$ étant donné qu'on n'assume aucune conductance de la pièce $i$ avec elle-même : $k_{ii} = 0 \\; \\forall i \\in \\mathbb{N}$. La diagonale de la matrice d'adjacence est donc nulle, ce qui nécessite le facteur $(1-\\delta_{ij})$, de telle sorte que\n",
    "$$\n",
    "\\boxed{n_iC_v \\frac{\\text{d}T_i(t)}{\\text{d}t}  = -\\sum_{j=1}^N k_{ij} \\Big(T_i(t) - T_j(t)\\Big) (1-\\delta_{ij}) }.\n",
    "$$\n",
    "Cette situation correspond bien à celle d'un bâtiment de $N$ pièces, lesquelles présentent des conductances thermiques encapsulées par la matrice d'adjacence\n",
    "$$\n",
    "K = \\left [ k_{ij}\\right ].\n",
    "$$\n",
    "\n",
    "#### Exemple de matrice d'adjacence $A=\\left[a_{ij}\\right]$ d'un graphe non orienté (symétrique) à $N=10$ noeuds\n",
    "<p float=\"left\">\n",
    "    <img src=https://mathinsight.org/media/image/image/small_undirected_network.png width = \"400\"/>\n",
    "    <img src=\"inc/right_arrow.png\" width = \"400\" height = \"400\"/>\n",
    "    <img src=https://mathinsight.org/media/image/image/small_undirected_network_numbered.png width = \"400\"/>\n",
    "</p>\n",
    "\n",
    "Dans notre cas, toutefois, nous voulons éviter d'avoir à exprimer l'ÉDO en termes de différences en température $\\Delta T_{ij}$, puisque cela empêche l'<span style=\"color:red\">**écriture sous forme matricielle!**</span>"
   ]
  },
  {
   "cell_type": "markdown",
   "id": "e7f4f45f",
   "metadata": {},
   "source": [
    "#### Écriture sous forme matricielle de l'ÉDO\n",
    "\n",
    "Pour pouvoir réécrire l'équation seulement en termes de vecteurs et de matrices, on cherche donc une forme condensée exploitant le produit matriciel :\n",
    "$$\n",
    "\\underbrace{n_iC_v}_{\\equiv C_{ii}} \\frac{\\text{d}T_i(t)}{\\text{d}t}  = -\\sum_{j=1}^N k_{ij} \\Big(T_i(t) - T_j(t)\\Big) (1-\\delta_{ij}) \\Longrightarrow C\\frac{\\text{d}\\mathbf{T}(t)}{\\text{d}t} = - L\\mathbf{T}(t),\n",
    "$$\n",
    "où la matrice de couplage globale $L=[l_{ij}]$, qui encapsule tous les transferts thermiques par conduction, est introduite. Mais de quoi est-elle constituée?\n",
    "\n",
    "Intéressons-nous au côté droit de l'ÉDO et distinguons les deux termes contenus dans le terme général de la somme.\n",
    "$$\n",
    "\\sum_{j=1}^N k_{ij}\\Big(T_i(t) - T_j(t))(1-\\delta_{ij}) = \\sum_{j=1}^N k_{ij}T_i(t)(1-\\delta_{ij}) - \\sum_{j=1}^N k_{ij}T_j(t)(1-\\delta_{ij})\n",
    "$$\n",
    "Pour retrouver la forme d'un produit matriciel avec un éventuel vecteur de températures $\\mathbf{T}$, on doit mettre en évidence le facteur $T_i(t)$ au premier terme, pour les éléments diagonaux de $L$. De même, le facteur $T_j(t) (1-\\delta_{ij})$ doit être mis en évidence du deuxième terme pour les éléments hors diagonale de la matrice $L$, ce qui donne\n",
    "$$\n",
    "\\underbrace{\\Bigg [\\sum_{j=1}^N k_{ij}(1-\\delta_{ij}) \\Bigg]}_{\\equiv l_{ii}}T_i(t) + \\sum_{j=1}^N \\underbrace{\\Bigg[-k_{ij}\\Bigg]}_{\\equiv l_{ij}}T_j(t)(1-\\delta_{ij}).\n",
    "$$\n",
    "Il est maintenant possible de faire correspondre tout le reste des termes à l'expression de $L_{ij}$, selon que $i=j$ (diagonale) ou que $i\\neq j$ (hors diagonale), si bien que\n",
    "$$\n",
    "l_{ij} = \\underbrace{\\Bigg[ \\sum_{\\xi=1}^N k_{i\\xi} (1-\\delta_{i\\xi}) \\Bigg]}_{\\text{Diagonale}}\\delta_{ij} + \\underbrace{\\Bigg [-k_{ij} \\Bigg]}_{\\text{Hors diagonale}}(1-\\delta_{ij}) \\hspace{12pt} \\Longleftrightarrow \\hspace{12pt} l_{ij} = \\begin{cases} \\sum_{\\xi=1}^N k_{i\\xi} (1-\\delta_{i\\xi}) \\hspace{12pt} \\text{ si } j=1, \\\\ -k_{ij} \\hspace{12pt} \\text{ si }j\\neq i.\\end{cases}\n",
    "$$\n",
    "\n",
    "Forts de cette expression pour $L$, on peut maintenant sans tracas exprimer l'ÉDO sous forme purement martricielle comme \n",
    "$$\n",
    "\\boxed{C\\frac{\\text{d}\\mathbf{T}(t)}{\\text{d}t} = - L\\mathbf{T}(t)}.\n",
    "$$\n",
    "\n",
    "**Fait intéressant :** cette matrice $L$ qui contient des conductances thermiques correspond à une **matrice de Laplace** [3] où les éléments sur la diagonale sont les degrés pondérés entrants. Une telle matrice a la particularité d'être définie positive (c'est-à-dire qu'elle ne possède que des valeurs propres positives) [4]. Ce faisant, sans l'intervention de radiateurs, les températures des pièces sont vouées à se stabiliser de manière monotone vers des valeurs d'équilibre thermique, ce qui se démontre aisément dans l'*espace propre* de $C^{-1}L$, quantité matricielle également définie positive (voir annexe C pour détails).\n"
   ]
  },
  {
   "cell_type": "markdown",
   "id": "aca622c2",
   "metadata": {},
   "source": [
    "Maintenant que nous avons formulé mathématiquement les échanges thermiques entre pièces $i$ et $j$, nous pouvons introduire les deux autres composantes-clés au modèle : la puissance de chauffage des radiateurs $\\mathbf{P}(t)$ pour les $N$ pièces ainsi que le transfert thermique avec l'extérieur, de température $T_{\\mathrm{ext}}$, qui peut être vu comme le \"chauffage du deillors\" (en bon français).\n",
    "\n",
    "#### Sous forme scalaire :\n",
    "$$\n",
    "\\boxed{\\underbrace{C_i \\frac{\\text{d}T_i(t)}{\\text{d}t}}_{\\text{Inertie thermique}} =  \\underbrace{-\\sum_{j=i}^{N}L_{ij}T_j(t)}_{\\text{Transferts thermiques entre les pièces}} +\\underbrace{P_i(t)}_{\\text{Chauffage}}  - \\underbrace{K_{\\mathrm{ext},i}(T_i(t) - T_{\\mathrm{ext}})}_{\\text{Pertes vers l'extérieur}}}\n",
    "$$\n",
    "\n",
    "#### Sous forme matricielle :\n",
    "$$\n",
    "\\boxed{C\\frac{\\text{d}\\mathbf{T}(t)}{\\text{d}t} = - L\\mathbf{T}(t) + \\mathbf{P}(t)  - K_{\\mathrm{ext}}\\left(\\mathbf{T}(t) - \\mathbf{T}_{\\mathrm{ext}} \\right)}\n",
    "$$"
   ]
  },
  {
   "cell_type": "markdown",
   "id": "94e048d4",
   "metadata": {},
   "source": [
    "### Estimation de la matrice d'adjacence à partir de données réelles\n",
    "\n",
    "<img src=\"inc/plan_appart.png\" width=1000 height=450 />\n"
   ]
  },
  {
   "cell_type": "code",
   "execution_count": null,
   "id": "6db9227f",
   "metadata": {
    "vscode": {
     "languageId": "ini"
    }
   },
   "outputs": [
    {
     "name": "stdout",
     "output_type": "stream",
     "text": [
      "[[0. 0. 0. 0. 0.]\n",
      " [0. 0. 0. 0. 0.]\n",
      " [0. 0. 0. 0. 0.]\n",
      " [0. 0. 0. 0. 0.]\n",
      " [0. 0. 0. 0. 0.]]\n"
     ]
    },
    {
     "ename": "ValueError",
     "evalue": "operands could not be broadcast together with shapes (5,5) (3,3) ",
     "output_type": "error",
     "traceback": [
      "\u001b[0;31m---------------------------------------------------------------------------\u001b[0m",
      "\u001b[0;31mValueError\u001b[0m                                Traceback (most recent call last)",
      "Cell \u001b[0;32mIn[30], line 33\u001b[0m\n\u001b[1;32m     26\u001b[0m conductivities \u001b[38;5;241m=\u001b[39m np\u001b[38;5;241m.\u001b[39marray([\n\u001b[1;32m     27\u001b[0m     [\u001b[38;5;241m0\u001b[39m, \u001b[38;5;241m0.2\u001b[39m, \u001b[38;5;241m0.2\u001b[39m],\n\u001b[1;32m     28\u001b[0m     [\u001b[38;5;241m0.2\u001b[39m, \u001b[38;5;241m0\u001b[39m, \u001b[38;5;241m0.2\u001b[39m],\n\u001b[1;32m     29\u001b[0m     [\u001b[38;5;241m0.2\u001b[39m, \u001b[38;5;241m0.2\u001b[39m, \u001b[38;5;241m0\u001b[39m]\n\u001b[1;32m     30\u001b[0m ])\n\u001b[1;32m     32\u001b[0m \u001b[38;5;66;03m# Combiner les matrices par produit de Hadamard pour obtenir la matrice d'adjacence K\u001b[39;00m\n\u001b[0;32m---> 33\u001b[0m K \u001b[38;5;241m=\u001b[39m \u001b[43mnp\u001b[49m\u001b[38;5;241;43m.\u001b[39;49m\u001b[43mmultiply\u001b[49m\u001b[43m(\u001b[49m\u001b[43mA_areas\u001b[49m\u001b[43m,\u001b[49m\u001b[43m \u001b[49m\u001b[43mconductivities\u001b[49m\u001b[43m)\u001b[49m\n\u001b[1;32m     35\u001b[0m \u001b[38;5;28mprint\u001b[39m(\u001b[38;5;124m\"\u001b[39m\u001b[38;5;124mMatrice d\u001b[39m\u001b[38;5;124m'\u001b[39m\u001b[38;5;124madjacence K :\u001b[39m\u001b[38;5;124m\"\u001b[39m)\n\u001b[1;32m     36\u001b[0m \u001b[38;5;28mprint\u001b[39m(K)\n",
      "\u001b[0;31mValueError\u001b[0m: operands could not be broadcast together with shapes (5,5) (3,3) "
     ]
    }
   ],
   "source": [
    "\"\"\"\n",
    "Choissons judicieusement les paramètres pour estimer la conductance \n",
    "à partir de la conductivité, de la superficie et de l'épaisseur des murs communs.\n",
    "\"\"\"\n",
    "\n",
    "# Paramètres réalistes pour estimer par après la conductance thermique.\n",
    "kappa = 0.2   # Conductivité thermique plausible pour du gypse [W/m*K]\n",
    "kappa_ext = 0.1 # Conductivité thermique plausible pour mur extérieur [W/m*K]\n",
    "d = 0.1         # Épaisseur des murs entre les pièces [m]\n",
    "d_ext = 0.2     # Épaisseur des murs extérieurs [m]\n",
    "hauteur = 3     # Hauteur du plafond [m]\n",
    "\n",
    "\"\"\"\n",
    "Définissons la matrice répertoriant les superficies (en m^2).\n",
    "Celle-ci est symétrique puisque les aires sont partagées.\n",
    "\"\"\"\n",
    "A = np.zeros((6,6)) # Par défaut, les pièces ne sont pas connectées.\n",
    "print(A)\n",
    "A[0,5] = 2.5*hauteur # Entre pièces 1 et 6\n",
    "A[1,5] = 2.5*hauteur # Entre pièces 2 et 6\n",
    "A[1,2] = 4.0*hauteur # Entre pièces 2 et 3\n",
    "A[2,3] = 4.0*hauteur # Entre pièces 3 et 4\n",
    "A[3,4] = 4.0*hauteur # Entre pièces 4 et 5\n",
    "#A += A.T # Symétrisons la matrice des aires.\n",
    "print(A)\n",
    "\n",
    "\"\"\"\n",
    "Définissons le vecteur contenant les superficies de façade extérieure.\n",
    "\"\"\"\n",
    "A_ext = hauteur*np.array([4+5, 4+5, 5, 4, 5+4, 2.5])\n",
    "\n",
    "\"\"\"\n",
    "Définissons la matrice des conductivités thermiques (en W/m*K).\n",
    "Ce ne sont pas toutes les pièces qui sont connectées entre elles.\n",
    "\n",
    " - Rose = mur isolant parfait (0 W/m*K)\n",
    " - Bleu = mur vers l'extérieur (0.1 W/m*K)\n",
    " - Jaune = mur de gypse (0.2 W/m*K)\n",
    "\"\"\"\n",
    "\n",
    "#conductivities = kappa*np.ones((6,6))\n",
    "\n",
    "# Combiner les matrices par produit de Hadamard pour obtenir la matrice d'adjacence K.\n",
    "#K = np.multiply(A,conductivities)/d\n",
    "\n",
    "#print(\"Matrice d'adjacence K :\")\n",
    "#print(K)"
   ]
  },
  {
   "cell_type": "code",
   "execution_count": 31,
   "id": "e17a016c",
   "metadata": {},
   "outputs": [
    {
     "name": "stdout",
     "output_type": "stream",
     "text": [
      "Matrice de conductance thermique L :\n",
      "[[ -0.  30.  30.]\n",
      " [ 30. -30.  30.]\n",
      " [ 30.  30. -60.]]\n"
     ]
    }
   ],
   "source": [
    "\n",
    "\n",
    "# Calcul de la matrice de conductance thermique L\n",
    "L = np.zeros_like(K)\n",
    "for i in range(n_rooms):\n",
    "    for j in range(n_rooms):\n",
    "        if i != j:\n",
    "            L[i, j] = -kappa * A / d * K[i, j]\n",
    "        else:\n",
    "            L[i, j] = -np.sum(L[i, :])\n",
    "\n",
    "print(\"Matrice de conductance thermique L :\")\n",
    "print(L)\n"
   ]
  },
  {
   "cell_type": "code",
   "execution_count": null,
   "id": "7670f45e",
   "metadata": {},
   "outputs": [],
   "source": [
    "from simul_chauffage import *"
   ]
  },
  {
   "cell_type": "code",
   "execution_count": null,
   "id": "cbec9040",
   "metadata": {},
   "outputs": [
    {
     "data": {
      "image/png": "[encoded data removed]",
      "text/plain": [
       "<Figure size 1200x600 with 2 Axes>"
      ]
     },
     "metadata": {},
     "output_type": "display_data"
    }
   ],
   "source": [
    "C = np.diag([1.0e4, 1.0e4, 1.0e4])  # Matrice diagonale des chaleurs spécifiques.\n",
    "L = np.array([[2.0, -1.0, -1.0], [-1.0, 2.0, -1.0], [-1.0, -1.0, 2.0]])  # Matrice de conductance thermique.\n",
    "K_ext = np.diag([0.5, 0.5, 0.5])  # Matrice de conductance thermique externe (valeurs d'exemple)\n",
    "T_cible = np.array([20.0, 20.0, 20.0]) # Températures intérieures ciblées.\n",
    "\n",
    "# Définissons la fonction de température extérieure (exemple : température extérieure constante).\n",
    "def T_ext_fonction(t):\n",
    "    return np.array([-15, -15, -15]) # Tokébakicitte\n",
    "\n",
    "# Définissons la fonction de puissance de chauffage (exemple : contrôle proportionnel).\n",
    "def P_fonction(t, T, T_target=T_cible):\n",
    "    K_p = 10.0 # Modulation du terme \"proportionnel\". 10 est une valeur couramment utilisée pour ce genre de problème.\n",
    "    return K_p * (T_target - T)\n",
    "\n",
    "# Températures initiales.\n",
    "T_0 = np.array([15.0, 15.0, 15.0])\n",
    "\n",
    "# Temps d'intégration.\n",
    "t_f = 10000 # [s]\n",
    "t = np.linspace(0, t_f, int(t_f*10)) \n",
    "\n",
    "# Intégration de la dynamique.\n",
    "T, P = simule_modele_thermique(C, L, K_ext, T_ext_fonction, P_fonction, T_0, t)\n",
    "\n",
    "# Afficher les résultats\n",
    "plt.figure(figsize=(12, 6))\n",
    "plt.subplot(2, 1, 1)\n",
    "plt.plot(t, T)\n",
    "plt.xlabel(\"Temps [s]\")\n",
    "plt.ylabel(r\"Température [$^{\\circ}$C]\")\n",
    "plt.legend([\"Pièce 1\", \"Pièce 2\", \"Pièce 3\"])\n",
    "plt.title('Simulation des transferts thermiques')\n",
    "\n",
    "plt.subplot(2, 1, 2)\n",
    "plt.plot(t, P)\n",
    "plt.xlabel(\"Temps [s]\")\n",
    "plt.ylabel(\"Puissance de chauffage [W]\")\n",
    "plt.legend([\"Pièce 1\", \"Pièce 2\", \"Pièce 3\"])\n",
    "plt.title('Puissance de chauffage au cours du temps')\n",
    "\n",
    "plt.tight_layout()\n",
    "plt.show()\n"
   ]
  },
  {
   "cell_type": "code",
   "execution_count": 22,
   "id": "15ac0839",
   "metadata": {},
   "outputs": [
    {
     "name": "stdout",
     "output_type": "stream",
     "text": [
      "Énergie totale de chauffage pour la pièce 1 : 309905.02 J\n",
      "Énergie totale de chauffage pour la pièce 2 : 106096.79 J\n",
      "Énergie totale de chauffage pour la pièce 3 : 76804.51 J\n"
     ]
    }
   ],
   "source": [
    "# Calculer l'énergie totale de chauffage pour chaque pièce\n",
    "E = np.trapz(P, t, axis=0)\n",
    "\n",
    "# Afficher les résultats\n",
    "for i in range(n_rooms):\n",
    "    print(f\"Énergie totale de chauffage pour la pièce {i+1} : {E[i]:.2f} J\")"
   ]
  },
  {
   "cell_type": "code",
   "execution_count": null,
   "id": "7a843d02",
   "metadata": {},
   "outputs": [],
   "source": []
  },
  {
   "cell_type": "markdown",
   "id": "be7ce591-d04a-4fb1-a793-b7ffef7af018",
   "metadata": {},
   "source": [
    "# 3.3 Modèle d'activité neuronale\n",
    "---\n",
    "\n",
    "Avec des modèles simples de dynamique non linéaire, pouvons-nous aspirer obtenir un portrait d'activité qui colle à la structure déduite d'une observation au microscope?"
   ]
  },
  {
   "cell_type": "markdown",
   "id": "a87789e9-c12f-47b0-9d45-b8830b4fc117",
   "metadata": {},
   "source": [
    "* Modèle de Kuramoto : apte à reproduire l'activité \"régionale\" du cerveau.\n",
    "\n",
    "On pourrait carrément feed un SC issu du poisson-zèbre par compilation des connexions neuronales dans le modèle dynamique et voir à quel point il y a ressemblance? Pour ce faire, on met sur pied une méthode de moyennage sur plusieurs simulations afin d'en explorer son espace de possibilités (systèmes chaotiques présentent des trajectoires imprévisibles).\n",
    "\n",
    "Reconstruction d'un graphique de la corrélation SC/FC-simul selon le couplage.\n",
    "\n",
    "Conclusion : permet de guider les études en neurosciences en suggérant que le cerveau biologique roule à un régime au \"seuil du chaos\". (edge of chaos).\n",
    "\n",
    "D'autres modèles intéressants :\n",
    "* Modèle theta : apte à reproduire l'activité d'un neurone individuel (QIF)\n",
    "* Wilson-Cowan : à taux de décharge.\n",
    "\n",
    "Sujet en plein développement, afin de diminuer l'empreinte des modèles d'apprentissage machine."
   ]
  },
  {
   "cell_type": "markdown",
   "id": "6643833b-1bd4-4177-9ff1-91f231e7b85b",
   "metadata": {},
   "source": [
    "# 4. Conclusion : Et si les simulations apprenaient d'elles-mêmes ?\n",
    "\n",
    "Nous avons illustré au moyen de trois exemples en quoi les simulations numériques permettent de modéliser des systèmes complexes en physique. Mais que se passerait-il si, au lieu de coder explicitement chaque interaction, on laissait un modèle apprendre ces dynamiques?\n",
    "\n",
    "C’est là qu’interviennent les réseaux neuronaux entraînés sur des modèles physiques. Plutôt que d’évaluer chaque équation pas à pas, on entraîne un réseau sur des données simulées. Une fois entraîné, le réseau tente de prédire l’évolution du système bien plus rapidement qu’une intégration numérique classique. \n",
    "\n",
    "En théorie, cette méthode est loin d'être farfelue, puisqu'on sait depuis 1989 [1] qu'un réseau neuronal peut agir à titre d'« approximateur universel » de toutes fonctions continues! Il est donc logique d'essayer de capturer la dynamique d'un système de cette manière.\n",
    "\n",
    "Cette approche commence déjà à être utilisée pour accélérer les simulations en mécanique des fluides, en physique des matériaux, et même en cosmologie! <span style=\"color:red\">sources</span>.\n",
    "\n",
    "\n",
    "**Les PINNs : le bac à sable du futur**\n",
    "\n",
    "Les simulations basées sur les équations (comme celles du présent atelier) sont complémentaires à celles basées sur l’apprentissage machine. En combinant la rigueur des modèles physiques avec la puissance des réseaux neuronaux, on ouvre la voie à des simulations \n",
    "1) plus rapides,\n",
    "2) moins énergivores,\n",
    "3) détenant la capacité de généraliser sur de nouveaux cas.\n",
    "   \n",
    "On parle alors de « réseaux de neurones informés par la physique », ou PINNs (*Physics-informed neural networks*) en anglais. <span style=\"color:red\">sources</span>"
   ]
  },
  {
   "cell_type": "markdown",
   "id": "14f900ef-bfd2-41e0-9eea-e04c4e103804",
   "metadata": {},
   "source": [
    "# 5. Références\n",
    "\n",
    "[1] G. Cybenko, “Approximation by superpositions of a sigmoidal function,” Math. Control Signal Systems, vol. 2, no. 4, pp. 303–314, Dec. 1989, doi: 10.1007/BF02551274.\n",
    "\n",
    "[2] “Loi de refroidissement de Newton,” Wikipédia. Jul. 29, 2023. Accessed: Mar. 02, 2025. [Online]. Available: https://fr.wikipedia.org/w/index.php?title=Loi_de_refroidissement_de_Newton&oldid=206457504\n",
    "\n",
    "[3] “Matrice laplacienne,” Wikipédia. Sep. 15, 2024. Accessed: Mar. 02, 2025. [Online]. Available: https://fr.wikipedia.org/w/index.php?title=Matrice_laplacienne&oldid=218663112\n",
    "\n",
    "[4] E. W. Weisstein, “Positive Definite Matrix.” Accessed: Mar. 02, 2025. [Online]. Available: https://mathworld.wolfram.com/PositiveDefiniteMatrix.html\n",
    "\n",
    "[5] R. Axelrod and W. D. Hamilton, “The evolution of cooperation,” Science, vol. 211, no. 4489, pp. 1390–1396, Mar. 1981, doi: 10.1126/science.7466396.\n",
    "\n",
    "[6] “Thermal conduction,” Wikipedia. Feb. 25, 2025. Accessed: Mar. 02, 2025. [Online]. Available: https://en.wikipedia.org/w/index.php?title=Thermal_conduction&oldid=1277574658\n",
    "\n",
    "[7] I. Newton, “VII. Scala graduum caloris,” in Philosophical Transactions of the Royal Society of London, vol. 22, The Royal Society, 1701, pp. 824–829. doi: 10.1098/rstl.1700.0082.\n",
    "\n",
    "[8] Veritasium, What Game Theory Reveals About Life, The Universe, and Everything, (2023). Accessed: Mar. 03, 2025. [Online Video]. Available: https://www.youtube.com/watch?v=mScpHTIi-kM\n",
    "\n",
    "\n"
   ]
  },
  {
   "cell_type": "code",
   "execution_count": null,
   "id": "3fae6a23",
   "metadata": {},
   "outputs": [],
   "source": []
  },
  {
   "cell_type": "markdown",
   "id": "14a90892-3e0f-450d-b5a7-a54d92c6351f",
   "metadata": {},
   "source": [
    "# ANNEXES\n",
    "---\n",
    "\n",
    "## Annexe A\n",
    "\n",
    "### Recette : Comment réussir (ou pas) une simulation numérique\n",
    "\n",
    "1. **Trouver un problème :** arroser les fleurs du tapis de la curiosité intellectuelle.\n",
    "2. **Mathématiser le problème :** *soit un boeuf sphérique précédé d'une charrue...*\n",
    "3. **Choisir des paramètres plausibles :** [*Itération 1*] partons à la cueillette de cerises, sans vergogne.\n",
    "4. **Planifier une belle architecture** de code (digne du brutalisme, avec juste ce qu'il faut de chaos).\n",
    "5. **Coder**, c’est-à-dire s'adonner à la chasse aux *bugs* en écoutant du [Georges Brassens](https://www.youtube.com/watch?v=oOPBnbNxLDM).\n",
    "6. **Visualiser les résultats** (et ajuster les couleurs pour que ça ait l’air crédible).\n",
    "\n",
    "À la lumière des résultats, l'on peut juger de l'aptitude du modèle à bien décrire le phénomène. Des incréments en complexité peuvent alors être rajoutés si l'on juge que c'est nécessaire.\n",
    "\n",
    "## Annexe B : Autres exemples de simulation\n",
    "### Simulateur écologique\n",
    "<img src=\"inc/simul_chaos_lapino.png\" width=600 height=600 />\n",
    "<img src=\"inc/simul_chaos_carte.png\" width=600 height=600 />\n",
    "\n",
    "## Annexe C : Dynamique de \"relaxation\" des températures en l'absence des radiateurs\n",
    "Soit l'équation du système thermique sans radiateur\n",
    "$$\n",
    "C\\frac{\\text{d}\\mathbf{T}(t)}{\\text{d}t} = -L\\mathbf{T}(t) \\Longleftrightarrow \\frac{\\text{d}\\mathbf{T}(t)}{\\text{d}t} = -C^{-1}L\\mathbf{T}(t).\n",
    "$$\n",
    "On suppose que la quantité matricielle $C^{-1}L$ est diagonalisable de manière à ce que $C^{-1}L = S\\Lambda S{-1}$. Ainsi,\n",
    "$$\n",
    "\\frac{\\text{d}\\mathbf{T}(t)}{\\text{d}t} = -S\\Lambda S^{-1}\\mathbf{T}(t).\n",
    "$$\n",
    "En prenant $\\tilde{\\mathbf{T}}(t) = S{-1}\\mathbf{T}$, l'équation se diagonalise, ce qui découple les $N$ équations sous-jacentes. On obtient alors\n",
    "$$\n",
    "S^{-1}\\frac{\\text{d}\\mathbf{T}(t)}{\\text{d}t} = -\\Lambda S^{-1}\\mathbf{T}(t) \\implies \\frac{\\text{d}\\tilde{\\mathbf{T}}(t)(t)}{\\text{d}t} = -\\Lambda \\tilde{\\mathbf{T}}(t).\n",
    "$$\n",
    "Cette forme est directement intégrable. En posant $\\mathbf{T}_0 \\equiv \\mathbf{T}(0)$ comme conditions initiales, sa solution va comme\n",
    "$$\n",
    "\\tilde{\\mathbf{T}}(t) = \\exp{-\\Lambda t} \\tilde{\\mathbf{T}}_0.\n",
    "$$\n",
    "Ceci met en évidence que, dans l'*espace propre* de $C^{-1} L$, les températures sont vouées à la décroissance exponentielle. En effet, la matrice $C^{-1}$ étant diagonale et positive, son produit par $L$ ne sort pas les valeurs propres (réelles) de la positivité.\n"
   ]
  }
 ],
 "metadata": {
  "kernelspec": {
   "display_name": "hydro",
   "language": "python",
   "name": "python3"
  },
  "language_info": {
   "codemirror_mode": {
    "name": "ipython",
    "version": 3
   },
   "file_extension": ".py",
   "mimetype": "text/x-python",
   "name": "python",
   "nbconvert_exporter": "python",
   "pygments_lexer": "ipython3",
   "version": "3.8.17"
  }
 },
 "nbformat": 4,
 "nbformat_minor": 5
}
